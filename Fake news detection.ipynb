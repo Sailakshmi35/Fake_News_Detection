{
 "cells": [
  {
   "cell_type": "code",
   "execution_count": 1,
   "id": "cc23abd4",
   "metadata": {},
   "outputs": [],
   "source": [
    "#FAKE NEWS DETECTION"
   ]
  },
  {
   "cell_type": "markdown",
   "id": "62dae1da",
   "metadata": {},
   "source": [
    "This project aims to find whether the news is real or fake using Machine learning models. It takes the text message(news) as input and gives a string value REAL or FAKE."
   ]
  },
  {
   "cell_type": "markdown",
   "id": "f0a4b37d",
   "metadata": {},
   "source": [
    "**IMPORTING PACKAGES**"
   ]
  },
  {
   "cell_type": "code",
   "execution_count": 2,
   "id": "6dc8bb0a",
   "metadata": {},
   "outputs": [],
   "source": [
    "#importing packages\n",
    "import numpy as np\n",
    "import pandas as pd"
   ]
  },
  {
   "cell_type": "markdown",
   "id": "37abf8bc",
   "metadata": {},
   "source": [
    "**Loading the dataset**"
   ]
  },
  {
   "cell_type": "code",
   "execution_count": 3,
   "id": "64a69c4d",
   "metadata": {},
   "outputs": [
    {
     "data": {
      "text/html": [
       "<div>\n",
       "<style scoped>\n",
       "    .dataframe tbody tr th:only-of-type {\n",
       "        vertical-align: middle;\n",
       "    }\n",
       "\n",
       "    .dataframe tbody tr th {\n",
       "        vertical-align: top;\n",
       "    }\n",
       "\n",
       "    .dataframe thead th {\n",
       "        text-align: right;\n",
       "    }\n",
       "</style>\n",
       "<table border=\"1\" class=\"dataframe\">\n",
       "  <thead>\n",
       "    <tr style=\"text-align: right;\">\n",
       "      <th></th>\n",
       "      <th>Unnamed: 0</th>\n",
       "      <th>title</th>\n",
       "      <th>text</th>\n",
       "      <th>label</th>\n",
       "    </tr>\n",
       "  </thead>\n",
       "  <tbody>\n",
       "    <tr>\n",
       "      <th>0</th>\n",
       "      <td>8476</td>\n",
       "      <td>You Can Smell Hillary’s Fear</td>\n",
       "      <td>Daniel Greenfield, a Shillman Journalism Fello...</td>\n",
       "      <td>FAKE</td>\n",
       "    </tr>\n",
       "    <tr>\n",
       "      <th>1</th>\n",
       "      <td>10294</td>\n",
       "      <td>Watch The Exact Moment Paul Ryan Committed Pol...</td>\n",
       "      <td>Google Pinterest Digg Linkedin Reddit Stumbleu...</td>\n",
       "      <td>FAKE</td>\n",
       "    </tr>\n",
       "    <tr>\n",
       "      <th>2</th>\n",
       "      <td>3608</td>\n",
       "      <td>Kerry to go to Paris in gesture of sympathy</td>\n",
       "      <td>U.S. Secretary of State John F. Kerry said Mon...</td>\n",
       "      <td>REAL</td>\n",
       "    </tr>\n",
       "    <tr>\n",
       "      <th>3</th>\n",
       "      <td>10142</td>\n",
       "      <td>Bernie supporters on Twitter erupt in anger ag...</td>\n",
       "      <td>— Kaydee King (@KaydeeKing) November 9, 2016 T...</td>\n",
       "      <td>FAKE</td>\n",
       "    </tr>\n",
       "    <tr>\n",
       "      <th>4</th>\n",
       "      <td>875</td>\n",
       "      <td>The Battle of New York: Why This Primary Matters</td>\n",
       "      <td>It's primary day in New York and front-runners...</td>\n",
       "      <td>REAL</td>\n",
       "    </tr>\n",
       "    <tr>\n",
       "      <th>...</th>\n",
       "      <td>...</td>\n",
       "      <td>...</td>\n",
       "      <td>...</td>\n",
       "      <td>...</td>\n",
       "    </tr>\n",
       "    <tr>\n",
       "      <th>6330</th>\n",
       "      <td>4490</td>\n",
       "      <td>State Department says it can't find emails fro...</td>\n",
       "      <td>The State Department told the Republican Natio...</td>\n",
       "      <td>REAL</td>\n",
       "    </tr>\n",
       "    <tr>\n",
       "      <th>6331</th>\n",
       "      <td>8062</td>\n",
       "      <td>The ‘P’ in PBS Should Stand for ‘Plutocratic’ ...</td>\n",
       "      <td>The ‘P’ in PBS Should Stand for ‘Plutocratic’ ...</td>\n",
       "      <td>FAKE</td>\n",
       "    </tr>\n",
       "    <tr>\n",
       "      <th>6332</th>\n",
       "      <td>8622</td>\n",
       "      <td>Anti-Trump Protesters Are Tools of the Oligarc...</td>\n",
       "      <td>Anti-Trump Protesters Are Tools of the Oligar...</td>\n",
       "      <td>FAKE</td>\n",
       "    </tr>\n",
       "    <tr>\n",
       "      <th>6333</th>\n",
       "      <td>4021</td>\n",
       "      <td>In Ethiopia, Obama seeks progress on peace, se...</td>\n",
       "      <td>ADDIS ABABA, Ethiopia —President Obama convene...</td>\n",
       "      <td>REAL</td>\n",
       "    </tr>\n",
       "    <tr>\n",
       "      <th>6334</th>\n",
       "      <td>4330</td>\n",
       "      <td>Jeb Bush Is Suddenly Attacking Trump. Here's W...</td>\n",
       "      <td>Jeb Bush Is Suddenly Attacking Trump. Here's W...</td>\n",
       "      <td>REAL</td>\n",
       "    </tr>\n",
       "  </tbody>\n",
       "</table>\n",
       "<p>6335 rows × 4 columns</p>\n",
       "</div>"
      ],
      "text/plain": [
       "      Unnamed: 0                                              title  \\\n",
       "0           8476                       You Can Smell Hillary’s Fear   \n",
       "1          10294  Watch The Exact Moment Paul Ryan Committed Pol...   \n",
       "2           3608        Kerry to go to Paris in gesture of sympathy   \n",
       "3          10142  Bernie supporters on Twitter erupt in anger ag...   \n",
       "4            875   The Battle of New York: Why This Primary Matters   \n",
       "...          ...                                                ...   \n",
       "6330        4490  State Department says it can't find emails fro...   \n",
       "6331        8062  The ‘P’ in PBS Should Stand for ‘Plutocratic’ ...   \n",
       "6332        8622  Anti-Trump Protesters Are Tools of the Oligarc...   \n",
       "6333        4021  In Ethiopia, Obama seeks progress on peace, se...   \n",
       "6334        4330  Jeb Bush Is Suddenly Attacking Trump. Here's W...   \n",
       "\n",
       "                                                   text label  \n",
       "0     Daniel Greenfield, a Shillman Journalism Fello...  FAKE  \n",
       "1     Google Pinterest Digg Linkedin Reddit Stumbleu...  FAKE  \n",
       "2     U.S. Secretary of State John F. Kerry said Mon...  REAL  \n",
       "3     — Kaydee King (@KaydeeKing) November 9, 2016 T...  FAKE  \n",
       "4     It's primary day in New York and front-runners...  REAL  \n",
       "...                                                 ...   ...  \n",
       "6330  The State Department told the Republican Natio...  REAL  \n",
       "6331  The ‘P’ in PBS Should Stand for ‘Plutocratic’ ...  FAKE  \n",
       "6332   Anti-Trump Protesters Are Tools of the Oligar...  FAKE  \n",
       "6333  ADDIS ABABA, Ethiopia —President Obama convene...  REAL  \n",
       "6334  Jeb Bush Is Suddenly Attacking Trump. Here's W...  REAL  \n",
       "\n",
       "[6335 rows x 4 columns]"
      ]
     },
     "execution_count": 3,
     "metadata": {},
     "output_type": "execute_result"
    }
   ],
   "source": [
    "#Reading csv file\n",
    "df=pd.read_csv(\"news.csv\")\n",
    "df"
   ]
  },
  {
   "cell_type": "code",
   "execution_count": 4,
   "id": "c5605050",
   "metadata": {},
   "outputs": [
    {
     "data": {
      "text/html": [
       "<div>\n",
       "<style scoped>\n",
       "    .dataframe tbody tr th:only-of-type {\n",
       "        vertical-align: middle;\n",
       "    }\n",
       "\n",
       "    .dataframe tbody tr th {\n",
       "        vertical-align: top;\n",
       "    }\n",
       "\n",
       "    .dataframe thead th {\n",
       "        text-align: right;\n",
       "    }\n",
       "</style>\n",
       "<table border=\"1\" class=\"dataframe\">\n",
       "  <thead>\n",
       "    <tr style=\"text-align: right;\">\n",
       "      <th></th>\n",
       "      <th>Unnamed: 0</th>\n",
       "      <th>title</th>\n",
       "      <th>text</th>\n",
       "      <th>label</th>\n",
       "    </tr>\n",
       "  </thead>\n",
       "  <tbody>\n",
       "    <tr>\n",
       "      <th>0</th>\n",
       "      <td>8476</td>\n",
       "      <td>You Can Smell Hillary’s Fear</td>\n",
       "      <td>Daniel Greenfield, a Shillman Journalism Fello...</td>\n",
       "      <td>FAKE</td>\n",
       "    </tr>\n",
       "    <tr>\n",
       "      <th>1</th>\n",
       "      <td>10294</td>\n",
       "      <td>Watch The Exact Moment Paul Ryan Committed Pol...</td>\n",
       "      <td>Google Pinterest Digg Linkedin Reddit Stumbleu...</td>\n",
       "      <td>FAKE</td>\n",
       "    </tr>\n",
       "    <tr>\n",
       "      <th>2</th>\n",
       "      <td>3608</td>\n",
       "      <td>Kerry to go to Paris in gesture of sympathy</td>\n",
       "      <td>U.S. Secretary of State John F. Kerry said Mon...</td>\n",
       "      <td>REAL</td>\n",
       "    </tr>\n",
       "    <tr>\n",
       "      <th>3</th>\n",
       "      <td>10142</td>\n",
       "      <td>Bernie supporters on Twitter erupt in anger ag...</td>\n",
       "      <td>— Kaydee King (@KaydeeKing) November 9, 2016 T...</td>\n",
       "      <td>FAKE</td>\n",
       "    </tr>\n",
       "    <tr>\n",
       "      <th>4</th>\n",
       "      <td>875</td>\n",
       "      <td>The Battle of New York: Why This Primary Matters</td>\n",
       "      <td>It's primary day in New York and front-runners...</td>\n",
       "      <td>REAL</td>\n",
       "    </tr>\n",
       "  </tbody>\n",
       "</table>\n",
       "</div>"
      ],
      "text/plain": [
       "   Unnamed: 0                                              title  \\\n",
       "0        8476                       You Can Smell Hillary’s Fear   \n",
       "1       10294  Watch The Exact Moment Paul Ryan Committed Pol...   \n",
       "2        3608        Kerry to go to Paris in gesture of sympathy   \n",
       "3       10142  Bernie supporters on Twitter erupt in anger ag...   \n",
       "4         875   The Battle of New York: Why This Primary Matters   \n",
       "\n",
       "                                                text label  \n",
       "0  Daniel Greenfield, a Shillman Journalism Fello...  FAKE  \n",
       "1  Google Pinterest Digg Linkedin Reddit Stumbleu...  FAKE  \n",
       "2  U.S. Secretary of State John F. Kerry said Mon...  REAL  \n",
       "3  — Kaydee King (@KaydeeKing) November 9, 2016 T...  FAKE  \n",
       "4  It's primary day in New York and front-runners...  REAL  "
      ]
     },
     "execution_count": 4,
     "metadata": {},
     "output_type": "execute_result"
    }
   ],
   "source": [
    "#displaying the first few rows of the dataset\n",
    "df.head()"
   ]
  },
  {
   "cell_type": "code",
   "execution_count": 5,
   "id": "0cf43d9d",
   "metadata": {},
   "outputs": [
    {
     "data": {
      "text/html": [
       "<div>\n",
       "<style scoped>\n",
       "    .dataframe tbody tr th:only-of-type {\n",
       "        vertical-align: middle;\n",
       "    }\n",
       "\n",
       "    .dataframe tbody tr th {\n",
       "        vertical-align: top;\n",
       "    }\n",
       "\n",
       "    .dataframe thead th {\n",
       "        text-align: right;\n",
       "    }\n",
       "</style>\n",
       "<table border=\"1\" class=\"dataframe\">\n",
       "  <thead>\n",
       "    <tr style=\"text-align: right;\">\n",
       "      <th></th>\n",
       "      <th>Unnamed: 0</th>\n",
       "      <th>title</th>\n",
       "      <th>text</th>\n",
       "      <th>label</th>\n",
       "    </tr>\n",
       "  </thead>\n",
       "  <tbody>\n",
       "    <tr>\n",
       "      <th>6330</th>\n",
       "      <td>4490</td>\n",
       "      <td>State Department says it can't find emails fro...</td>\n",
       "      <td>The State Department told the Republican Natio...</td>\n",
       "      <td>REAL</td>\n",
       "    </tr>\n",
       "    <tr>\n",
       "      <th>6331</th>\n",
       "      <td>8062</td>\n",
       "      <td>The ‘P’ in PBS Should Stand for ‘Plutocratic’ ...</td>\n",
       "      <td>The ‘P’ in PBS Should Stand for ‘Plutocratic’ ...</td>\n",
       "      <td>FAKE</td>\n",
       "    </tr>\n",
       "    <tr>\n",
       "      <th>6332</th>\n",
       "      <td>8622</td>\n",
       "      <td>Anti-Trump Protesters Are Tools of the Oligarc...</td>\n",
       "      <td>Anti-Trump Protesters Are Tools of the Oligar...</td>\n",
       "      <td>FAKE</td>\n",
       "    </tr>\n",
       "    <tr>\n",
       "      <th>6333</th>\n",
       "      <td>4021</td>\n",
       "      <td>In Ethiopia, Obama seeks progress on peace, se...</td>\n",
       "      <td>ADDIS ABABA, Ethiopia —President Obama convene...</td>\n",
       "      <td>REAL</td>\n",
       "    </tr>\n",
       "    <tr>\n",
       "      <th>6334</th>\n",
       "      <td>4330</td>\n",
       "      <td>Jeb Bush Is Suddenly Attacking Trump. Here's W...</td>\n",
       "      <td>Jeb Bush Is Suddenly Attacking Trump. Here's W...</td>\n",
       "      <td>REAL</td>\n",
       "    </tr>\n",
       "  </tbody>\n",
       "</table>\n",
       "</div>"
      ],
      "text/plain": [
       "      Unnamed: 0                                              title  \\\n",
       "6330        4490  State Department says it can't find emails fro...   \n",
       "6331        8062  The ‘P’ in PBS Should Stand for ‘Plutocratic’ ...   \n",
       "6332        8622  Anti-Trump Protesters Are Tools of the Oligarc...   \n",
       "6333        4021  In Ethiopia, Obama seeks progress on peace, se...   \n",
       "6334        4330  Jeb Bush Is Suddenly Attacking Trump. Here's W...   \n",
       "\n",
       "                                                   text label  \n",
       "6330  The State Department told the Republican Natio...  REAL  \n",
       "6331  The ‘P’ in PBS Should Stand for ‘Plutocratic’ ...  FAKE  \n",
       "6332   Anti-Trump Protesters Are Tools of the Oligar...  FAKE  \n",
       "6333  ADDIS ABABA, Ethiopia —President Obama convene...  REAL  \n",
       "6334  Jeb Bush Is Suddenly Attacking Trump. Here's W...  REAL  "
      ]
     },
     "execution_count": 5,
     "metadata": {},
     "output_type": "execute_result"
    }
   ],
   "source": [
    "#displaying the the last few rows of the dataset\n",
    "df.tail()"
   ]
  },
  {
   "cell_type": "code",
   "execution_count": 6,
   "id": "46fcdaa8",
   "metadata": {},
   "outputs": [
    {
     "data": {
      "text/html": [
       "<div>\n",
       "<style scoped>\n",
       "    .dataframe tbody tr th:only-of-type {\n",
       "        vertical-align: middle;\n",
       "    }\n",
       "\n",
       "    .dataframe tbody tr th {\n",
       "        vertical-align: top;\n",
       "    }\n",
       "\n",
       "    .dataframe thead th {\n",
       "        text-align: right;\n",
       "    }\n",
       "</style>\n",
       "<table border=\"1\" class=\"dataframe\">\n",
       "  <thead>\n",
       "    <tr style=\"text-align: right;\">\n",
       "      <th></th>\n",
       "      <th>Unnamed: 0</th>\n",
       "    </tr>\n",
       "  </thead>\n",
       "  <tbody>\n",
       "    <tr>\n",
       "      <th>count</th>\n",
       "      <td>6335.000000</td>\n",
       "    </tr>\n",
       "    <tr>\n",
       "      <th>mean</th>\n",
       "      <td>5280.415627</td>\n",
       "    </tr>\n",
       "    <tr>\n",
       "      <th>std</th>\n",
       "      <td>3038.503953</td>\n",
       "    </tr>\n",
       "    <tr>\n",
       "      <th>min</th>\n",
       "      <td>2.000000</td>\n",
       "    </tr>\n",
       "    <tr>\n",
       "      <th>25%</th>\n",
       "      <td>2674.500000</td>\n",
       "    </tr>\n",
       "    <tr>\n",
       "      <th>50%</th>\n",
       "      <td>5271.000000</td>\n",
       "    </tr>\n",
       "    <tr>\n",
       "      <th>75%</th>\n",
       "      <td>7901.000000</td>\n",
       "    </tr>\n",
       "    <tr>\n",
       "      <th>max</th>\n",
       "      <td>10557.000000</td>\n",
       "    </tr>\n",
       "  </tbody>\n",
       "</table>\n",
       "</div>"
      ],
      "text/plain": [
       "         Unnamed: 0\n",
       "count   6335.000000\n",
       "mean    5280.415627\n",
       "std     3038.503953\n",
       "min        2.000000\n",
       "25%     2674.500000\n",
       "50%     5271.000000\n",
       "75%     7901.000000\n",
       "max    10557.000000"
      ]
     },
     "execution_count": 6,
     "metadata": {},
     "output_type": "execute_result"
    }
   ],
   "source": [
    "#Description about the dataset\n",
    "df.describe()"
   ]
  },
  {
   "cell_type": "code",
   "execution_count": 7,
   "id": "c269d6ae",
   "metadata": {},
   "outputs": [
    {
     "name": "stdout",
     "output_type": "stream",
     "text": [
      "<class 'pandas.core.frame.DataFrame'>\n",
      "RangeIndex: 6335 entries, 0 to 6334\n",
      "Data columns (total 4 columns):\n",
      " #   Column      Non-Null Count  Dtype \n",
      "---  ------      --------------  ----- \n",
      " 0   Unnamed: 0  6335 non-null   int64 \n",
      " 1   title       6335 non-null   object\n",
      " 2   text        6335 non-null   object\n",
      " 3   label       6335 non-null   object\n",
      "dtypes: int64(1), object(3)\n",
      "memory usage: 198.1+ KB\n"
     ]
    }
   ],
   "source": [
    "#information about the fields\n",
    "df.info()"
   ]
  },
  {
   "cell_type": "code",
   "execution_count": 8,
   "id": "d8129579",
   "metadata": {},
   "outputs": [
    {
     "data": {
      "text/plain": [
       "Unnamed: 0    6335\n",
       "title         6256\n",
       "text          6060\n",
       "label            2\n",
       "dtype: int64"
      ]
     },
     "execution_count": 8,
     "metadata": {},
     "output_type": "execute_result"
    }
   ],
   "source": [
    "#displaying unique values in dataset\n",
    "df.nunique()"
   ]
  },
  {
   "cell_type": "code",
   "execution_count": 9,
   "id": "0c20abe0",
   "metadata": {},
   "outputs": [
    {
     "data": {
      "text/plain": [
       "Index(['Unnamed: 0', 'title', 'text', 'label'], dtype='object')"
      ]
     },
     "execution_count": 9,
     "metadata": {},
     "output_type": "execute_result"
    }
   ],
   "source": [
    "#inspecting column names\n",
    "df.columns"
   ]
  },
  {
   "cell_type": "code",
   "execution_count": 10,
   "id": "2c58a9dd",
   "metadata": {},
   "outputs": [
    {
     "data": {
      "text/plain": [
       "<bound method IndexOpsMixin.value_counts of 0       FAKE\n",
       "1       FAKE\n",
       "2       REAL\n",
       "3       FAKE\n",
       "4       REAL\n",
       "        ... \n",
       "6330    REAL\n",
       "6331    FAKE\n",
       "6332    FAKE\n",
       "6333    REAL\n",
       "6334    REAL\n",
       "Name: label, Length: 6335, dtype: object>"
      ]
     },
     "execution_count": 10,
     "metadata": {},
     "output_type": "execute_result"
    }
   ],
   "source": [
    "df['label'].value_counts"
   ]
  },
  {
   "cell_type": "code",
   "execution_count": 11,
   "id": "a1ed34c3",
   "metadata": {},
   "outputs": [
    {
     "data": {
      "text/plain": [
       "(6335, 4)"
      ]
     },
     "execution_count": 11,
     "metadata": {},
     "output_type": "execute_result"
    }
   ],
   "source": [
    "#shape of dataset\n",
    "df.shape"
   ]
  },
  {
   "cell_type": "code",
   "execution_count": 12,
   "id": "32d9d15d",
   "metadata": {},
   "outputs": [
    {
     "data": {
      "text/plain": [
       "<bound method IndexOpsMixin.value_counts of 0       Daniel Greenfield, a Shillman Journalism Fello...\n",
       "1       Google Pinterest Digg Linkedin Reddit Stumbleu...\n",
       "2       U.S. Secretary of State John F. Kerry said Mon...\n",
       "3       — Kaydee King (@KaydeeKing) November 9, 2016 T...\n",
       "4       It's primary day in New York and front-runners...\n",
       "                              ...                        \n",
       "6330    The State Department told the Republican Natio...\n",
       "6331    The ‘P’ in PBS Should Stand for ‘Plutocratic’ ...\n",
       "6332     Anti-Trump Protesters Are Tools of the Oligar...\n",
       "6333    ADDIS ABABA, Ethiopia —President Obama convene...\n",
       "6334    Jeb Bush Is Suddenly Attacking Trump. Here's W...\n",
       "Name: text, Length: 6335, dtype: object>"
      ]
     },
     "execution_count": 12,
     "metadata": {},
     "output_type": "execute_result"
    }
   ],
   "source": [
    "#text messages\n",
    "df['text'].value_counts"
   ]
  },
  {
   "cell_type": "code",
   "execution_count": 13,
   "id": "1513dd0e",
   "metadata": {},
   "outputs": [
    {
     "name": "stdout",
     "output_type": "stream",
     "text": [
      "Number of news samples in dataset: 6060\n"
     ]
    }
   ],
   "source": [
    "#number of unique messages\n",
    "number_msgs=len(df['text'].unique())\n",
    "print(\"Number of news samples in dataset:\",number_msgs)"
   ]
  },
  {
   "cell_type": "markdown",
   "id": "9fb7455d",
   "metadata": {},
   "source": [
    "**PREPROCESSING DATA**"
   ]
  },
  {
   "cell_type": "code",
   "execution_count": 14,
   "id": "60bffae7",
   "metadata": {},
   "outputs": [
    {
     "data": {
      "text/html": [
       "<div>\n",
       "<style scoped>\n",
       "    .dataframe tbody tr th:only-of-type {\n",
       "        vertical-align: middle;\n",
       "    }\n",
       "\n",
       "    .dataframe tbody tr th {\n",
       "        vertical-align: top;\n",
       "    }\n",
       "\n",
       "    .dataframe thead th {\n",
       "        text-align: right;\n",
       "    }\n",
       "</style>\n",
       "<table border=\"1\" class=\"dataframe\">\n",
       "  <thead>\n",
       "    <tr style=\"text-align: right;\">\n",
       "      <th></th>\n",
       "      <th>Unnamed: 0</th>\n",
       "      <th>title</th>\n",
       "      <th>text</th>\n",
       "      <th>label</th>\n",
       "    </tr>\n",
       "  </thead>\n",
       "  <tbody>\n",
       "    <tr>\n",
       "      <th>0</th>\n",
       "      <td>False</td>\n",
       "      <td>False</td>\n",
       "      <td>False</td>\n",
       "      <td>False</td>\n",
       "    </tr>\n",
       "    <tr>\n",
       "      <th>1</th>\n",
       "      <td>False</td>\n",
       "      <td>False</td>\n",
       "      <td>False</td>\n",
       "      <td>False</td>\n",
       "    </tr>\n",
       "    <tr>\n",
       "      <th>2</th>\n",
       "      <td>False</td>\n",
       "      <td>False</td>\n",
       "      <td>False</td>\n",
       "      <td>False</td>\n",
       "    </tr>\n",
       "    <tr>\n",
       "      <th>3</th>\n",
       "      <td>False</td>\n",
       "      <td>False</td>\n",
       "      <td>False</td>\n",
       "      <td>False</td>\n",
       "    </tr>\n",
       "    <tr>\n",
       "      <th>4</th>\n",
       "      <td>False</td>\n",
       "      <td>False</td>\n",
       "      <td>False</td>\n",
       "      <td>False</td>\n",
       "    </tr>\n",
       "    <tr>\n",
       "      <th>...</th>\n",
       "      <td>...</td>\n",
       "      <td>...</td>\n",
       "      <td>...</td>\n",
       "      <td>...</td>\n",
       "    </tr>\n",
       "    <tr>\n",
       "      <th>6330</th>\n",
       "      <td>False</td>\n",
       "      <td>False</td>\n",
       "      <td>False</td>\n",
       "      <td>False</td>\n",
       "    </tr>\n",
       "    <tr>\n",
       "      <th>6331</th>\n",
       "      <td>False</td>\n",
       "      <td>False</td>\n",
       "      <td>False</td>\n",
       "      <td>False</td>\n",
       "    </tr>\n",
       "    <tr>\n",
       "      <th>6332</th>\n",
       "      <td>False</td>\n",
       "      <td>False</td>\n",
       "      <td>False</td>\n",
       "      <td>False</td>\n",
       "    </tr>\n",
       "    <tr>\n",
       "      <th>6333</th>\n",
       "      <td>False</td>\n",
       "      <td>False</td>\n",
       "      <td>False</td>\n",
       "      <td>False</td>\n",
       "    </tr>\n",
       "    <tr>\n",
       "      <th>6334</th>\n",
       "      <td>False</td>\n",
       "      <td>False</td>\n",
       "      <td>False</td>\n",
       "      <td>False</td>\n",
       "    </tr>\n",
       "  </tbody>\n",
       "</table>\n",
       "<p>6335 rows × 4 columns</p>\n",
       "</div>"
      ],
      "text/plain": [
       "      Unnamed: 0  title   text  label\n",
       "0          False  False  False  False\n",
       "1          False  False  False  False\n",
       "2          False  False  False  False\n",
       "3          False  False  False  False\n",
       "4          False  False  False  False\n",
       "...          ...    ...    ...    ...\n",
       "6330       False  False  False  False\n",
       "6331       False  False  False  False\n",
       "6332       False  False  False  False\n",
       "6333       False  False  False  False\n",
       "6334       False  False  False  False\n",
       "\n",
       "[6335 rows x 4 columns]"
      ]
     },
     "execution_count": 14,
     "metadata": {},
     "output_type": "execute_result"
    }
   ],
   "source": [
    "#checking null values or missing values in the dataset\n",
    "df.isnull()"
   ]
  },
  {
   "cell_type": "code",
   "execution_count": 15,
   "id": "990a1e23",
   "metadata": {},
   "outputs": [
    {
     "data": {
      "text/plain": [
       "Unnamed: 0    0\n",
       "title         0\n",
       "text          0\n",
       "label         0\n",
       "dtype: int64"
      ]
     },
     "execution_count": 15,
     "metadata": {},
     "output_type": "execute_result"
    }
   ],
   "source": [
    "# Getting the count of missing values in each column\n",
    "df.isnull().sum()"
   ]
  },
  {
   "cell_type": "markdown",
   "id": "580b4ceb",
   "metadata": {},
   "source": [
    "*There is no null values in the dataset.*"
   ]
  },
  {
   "cell_type": "code",
   "execution_count": 16,
   "id": "786f137b",
   "metadata": {},
   "outputs": [
    {
     "data": {
      "text/plain": [
       "0       False\n",
       "1       False\n",
       "2       False\n",
       "3       False\n",
       "4       False\n",
       "        ...  \n",
       "6330    False\n",
       "6331    False\n",
       "6332    False\n",
       "6333    False\n",
       "6334    False\n",
       "Length: 6335, dtype: bool"
      ]
     },
     "execution_count": 16,
     "metadata": {},
     "output_type": "execute_result"
    }
   ],
   "source": [
    "# Checking for duplicate rows\n",
    "df.duplicated()"
   ]
  },
  {
   "cell_type": "code",
   "execution_count": 17,
   "id": "d6b2253d",
   "metadata": {},
   "outputs": [],
   "source": [
    "#changing the column names\n",
    "df.columns=['Index','Title','Text','Label']"
   ]
  },
  {
   "cell_type": "code",
   "execution_count": 18,
   "id": "3c029223",
   "metadata": {},
   "outputs": [
    {
     "data": {
      "text/plain": [
       "Index(['Index', 'Title', 'Text', 'Label'], dtype='object')"
      ]
     },
     "execution_count": 18,
     "metadata": {},
     "output_type": "execute_result"
    }
   ],
   "source": [
    "df.columns"
   ]
  },
  {
   "cell_type": "code",
   "execution_count": 19,
   "id": "4686485f",
   "metadata": {},
   "outputs": [
    {
     "data": {
      "text/html": [
       "<div>\n",
       "<style scoped>\n",
       "    .dataframe tbody tr th:only-of-type {\n",
       "        vertical-align: middle;\n",
       "    }\n",
       "\n",
       "    .dataframe tbody tr th {\n",
       "        vertical-align: top;\n",
       "    }\n",
       "\n",
       "    .dataframe thead th {\n",
       "        text-align: right;\n",
       "    }\n",
       "</style>\n",
       "<table border=\"1\" class=\"dataframe\">\n",
       "  <thead>\n",
       "    <tr style=\"text-align: right;\">\n",
       "      <th></th>\n",
       "      <th>Index</th>\n",
       "      <th>Title</th>\n",
       "      <th>Text</th>\n",
       "      <th>Label</th>\n",
       "    </tr>\n",
       "  </thead>\n",
       "  <tbody>\n",
       "    <tr>\n",
       "      <th>0</th>\n",
       "      <td>8476</td>\n",
       "      <td>You Can Smell Hillary’s Fear</td>\n",
       "      <td>Daniel Greenfield, a Shillman Journalism Fello...</td>\n",
       "      <td>FAKE</td>\n",
       "    </tr>\n",
       "    <tr>\n",
       "      <th>1</th>\n",
       "      <td>10294</td>\n",
       "      <td>Watch The Exact Moment Paul Ryan Committed Pol...</td>\n",
       "      <td>Google Pinterest Digg Linkedin Reddit Stumbleu...</td>\n",
       "      <td>FAKE</td>\n",
       "    </tr>\n",
       "    <tr>\n",
       "      <th>2</th>\n",
       "      <td>3608</td>\n",
       "      <td>Kerry to go to Paris in gesture of sympathy</td>\n",
       "      <td>U.S. Secretary of State John F. Kerry said Mon...</td>\n",
       "      <td>REAL</td>\n",
       "    </tr>\n",
       "    <tr>\n",
       "      <th>3</th>\n",
       "      <td>10142</td>\n",
       "      <td>Bernie supporters on Twitter erupt in anger ag...</td>\n",
       "      <td>— Kaydee King (@KaydeeKing) November 9, 2016 T...</td>\n",
       "      <td>FAKE</td>\n",
       "    </tr>\n",
       "    <tr>\n",
       "      <th>4</th>\n",
       "      <td>875</td>\n",
       "      <td>The Battle of New York: Why This Primary Matters</td>\n",
       "      <td>It's primary day in New York and front-runners...</td>\n",
       "      <td>REAL</td>\n",
       "    </tr>\n",
       "    <tr>\n",
       "      <th>...</th>\n",
       "      <td>...</td>\n",
       "      <td>...</td>\n",
       "      <td>...</td>\n",
       "      <td>...</td>\n",
       "    </tr>\n",
       "    <tr>\n",
       "      <th>6330</th>\n",
       "      <td>4490</td>\n",
       "      <td>State Department says it can't find emails fro...</td>\n",
       "      <td>The State Department told the Republican Natio...</td>\n",
       "      <td>REAL</td>\n",
       "    </tr>\n",
       "    <tr>\n",
       "      <th>6331</th>\n",
       "      <td>8062</td>\n",
       "      <td>The ‘P’ in PBS Should Stand for ‘Plutocratic’ ...</td>\n",
       "      <td>The ‘P’ in PBS Should Stand for ‘Plutocratic’ ...</td>\n",
       "      <td>FAKE</td>\n",
       "    </tr>\n",
       "    <tr>\n",
       "      <th>6332</th>\n",
       "      <td>8622</td>\n",
       "      <td>Anti-Trump Protesters Are Tools of the Oligarc...</td>\n",
       "      <td>Anti-Trump Protesters Are Tools of the Oligar...</td>\n",
       "      <td>FAKE</td>\n",
       "    </tr>\n",
       "    <tr>\n",
       "      <th>6333</th>\n",
       "      <td>4021</td>\n",
       "      <td>In Ethiopia, Obama seeks progress on peace, se...</td>\n",
       "      <td>ADDIS ABABA, Ethiopia —President Obama convene...</td>\n",
       "      <td>REAL</td>\n",
       "    </tr>\n",
       "    <tr>\n",
       "      <th>6334</th>\n",
       "      <td>4330</td>\n",
       "      <td>Jeb Bush Is Suddenly Attacking Trump. Here's W...</td>\n",
       "      <td>Jeb Bush Is Suddenly Attacking Trump. Here's W...</td>\n",
       "      <td>REAL</td>\n",
       "    </tr>\n",
       "  </tbody>\n",
       "</table>\n",
       "<p>6335 rows × 4 columns</p>\n",
       "</div>"
      ],
      "text/plain": [
       "      Index                                              Title  \\\n",
       "0      8476                       You Can Smell Hillary’s Fear   \n",
       "1     10294  Watch The Exact Moment Paul Ryan Committed Pol...   \n",
       "2      3608        Kerry to go to Paris in gesture of sympathy   \n",
       "3     10142  Bernie supporters on Twitter erupt in anger ag...   \n",
       "4       875   The Battle of New York: Why This Primary Matters   \n",
       "...     ...                                                ...   \n",
       "6330   4490  State Department says it can't find emails fro...   \n",
       "6331   8062  The ‘P’ in PBS Should Stand for ‘Plutocratic’ ...   \n",
       "6332   8622  Anti-Trump Protesters Are Tools of the Oligarc...   \n",
       "6333   4021  In Ethiopia, Obama seeks progress on peace, se...   \n",
       "6334   4330  Jeb Bush Is Suddenly Attacking Trump. Here's W...   \n",
       "\n",
       "                                                   Text Label  \n",
       "0     Daniel Greenfield, a Shillman Journalism Fello...  FAKE  \n",
       "1     Google Pinterest Digg Linkedin Reddit Stumbleu...  FAKE  \n",
       "2     U.S. Secretary of State John F. Kerry said Mon...  REAL  \n",
       "3     — Kaydee King (@KaydeeKing) November 9, 2016 T...  FAKE  \n",
       "4     It's primary day in New York and front-runners...  REAL  \n",
       "...                                                 ...   ...  \n",
       "6330  The State Department told the Republican Natio...  REAL  \n",
       "6331  The ‘P’ in PBS Should Stand for ‘Plutocratic’ ...  FAKE  \n",
       "6332   Anti-Trump Protesters Are Tools of the Oligar...  FAKE  \n",
       "6333  ADDIS ABABA, Ethiopia —President Obama convene...  REAL  \n",
       "6334  Jeb Bush Is Suddenly Attacking Trump. Here's W...  REAL  \n",
       "\n",
       "[6335 rows x 4 columns]"
      ]
     },
     "execution_count": 19,
     "metadata": {},
     "output_type": "execute_result"
    }
   ],
   "source": [
    "#dropping NaN values\n",
    "df.dropna()"
   ]
  },
  {
   "cell_type": "markdown",
   "id": "5b5642b5",
   "metadata": {},
   "source": [
    "*There is no NaN values in dataset*"
   ]
  },
  {
   "cell_type": "code",
   "execution_count": 20,
   "id": "42ce53d7",
   "metadata": {},
   "outputs": [],
   "source": [
    "#dropping index field\n",
    "df.drop('Index',axis=1,inplace=True)"
   ]
  },
  {
   "cell_type": "markdown",
   "id": "5ebc056b",
   "metadata": {},
   "source": [
    "*Index doesn't used to classify news so it is dropped from dataset.*"
   ]
  },
  {
   "cell_type": "code",
   "execution_count": 21,
   "id": "f7ade2b8",
   "metadata": {},
   "outputs": [
    {
     "data": {
      "text/plain": [
       "Index(['Title', 'Text', 'Label'], dtype='object')"
      ]
     },
     "execution_count": 21,
     "metadata": {},
     "output_type": "execute_result"
    }
   ],
   "source": [
    "df.columns"
   ]
  },
  {
   "cell_type": "code",
   "execution_count": 22,
   "id": "6389618a",
   "metadata": {},
   "outputs": [],
   "source": [
    "#dropping the title field\n",
    "df.drop('Title',axis=1,inplace=True)"
   ]
  },
  {
   "cell_type": "markdown",
   "id": "c5bbc262",
   "metadata": {},
   "source": [
    "*Title cannot classify data, so title is dropped.*"
   ]
  },
  {
   "cell_type": "code",
   "execution_count": 23,
   "id": "fc7705b2",
   "metadata": {},
   "outputs": [
    {
     "data": {
      "text/plain": [
       "Index(['Text', 'Label'], dtype='object')"
      ]
     },
     "execution_count": 23,
     "metadata": {},
     "output_type": "execute_result"
    }
   ],
   "source": [
    "df.columns"
   ]
  },
  {
   "cell_type": "code",
   "execution_count": 24,
   "id": "ca9ba2b2",
   "metadata": {},
   "outputs": [
    {
     "data": {
      "text/plain": [
       "0       Daniel Greenfield, a Shillman Journalism Fello...\n",
       "1       Google Pinterest Digg Linkedin Reddit Stumbleu...\n",
       "2       U.S. Secretary of State John F. Kerry said Mon...\n",
       "3       — Kaydee King (@KaydeeKing) November 9, 2016 T...\n",
       "4       It's primary day in New York and front-runners...\n",
       "                              ...                        \n",
       "6330    The State Department told the Republican Natio...\n",
       "6331    The ‘P’ in PBS Should Stand for ‘Plutocratic’ ...\n",
       "6332     Anti-Trump Protesters Are Tools of the Oligar...\n",
       "6333    ADDIS ABABA, Ethiopia —President Obama convene...\n",
       "6334    Jeb Bush Is Suddenly Attacking Trump. Here's W...\n",
       "Name: Text, Length: 6335, dtype: object"
      ]
     },
     "execution_count": 24,
     "metadata": {},
     "output_type": "execute_result"
    }
   ],
   "source": [
    "# Accessing the 'Text' column\n",
    "df['Text']"
   ]
  },
  {
   "cell_type": "markdown",
   "id": "a9da2263",
   "metadata": {},
   "source": [
    "**PREPROCESS THE TEXT FIELD**"
   ]
  },
  {
   "cell_type": "code",
   "execution_count": 25,
   "id": "4e7785c3",
   "metadata": {},
   "outputs": [],
   "source": [
    "#converting Text to lower case\n",
    "df['Text']=df['Text'].str.lower()"
   ]
  },
  {
   "cell_type": "code",
   "execution_count": 26,
   "id": "de2f0484",
   "metadata": {},
   "outputs": [
    {
     "data": {
      "text/plain": [
       "0       daniel greenfield, a shillman journalism fello...\n",
       "1       google pinterest digg linkedin reddit stumbleu...\n",
       "2       u.s. secretary of state john f. kerry said mon...\n",
       "3       — kaydee king (@kaydeeking) november 9, 2016 t...\n",
       "4       it's primary day in new york and front-runners...\n",
       "                              ...                        \n",
       "6330    the state department told the republican natio...\n",
       "6331    the ‘p’ in pbs should stand for ‘plutocratic’ ...\n",
       "6332     anti-trump protesters are tools of the oligar...\n",
       "6333    addis ababa, ethiopia —president obama convene...\n",
       "6334    jeb bush is suddenly attacking trump. here's w...\n",
       "Name: Text, Length: 6335, dtype: object"
      ]
     },
     "execution_count": 26,
     "metadata": {},
     "output_type": "execute_result"
    }
   ],
   "source": [
    "df['Text']"
   ]
  },
  {
   "cell_type": "markdown",
   "id": "43c9f35f",
   "metadata": {},
   "source": [
    "*Here the text is converted into lower case.*"
   ]
  },
  {
   "cell_type": "code",
   "execution_count": 27,
   "id": "f8f58576",
   "metadata": {},
   "outputs": [
    {
     "data": {
      "text/html": [
       "<div>\n",
       "<style scoped>\n",
       "    .dataframe tbody tr th:only-of-type {\n",
       "        vertical-align: middle;\n",
       "    }\n",
       "\n",
       "    .dataframe tbody tr th {\n",
       "        vertical-align: top;\n",
       "    }\n",
       "\n",
       "    .dataframe thead th {\n",
       "        text-align: right;\n",
       "    }\n",
       "</style>\n",
       "<table border=\"1\" class=\"dataframe\">\n",
       "  <thead>\n",
       "    <tr style=\"text-align: right;\">\n",
       "      <th></th>\n",
       "      <th>Text</th>\n",
       "      <th>Label</th>\n",
       "    </tr>\n",
       "  </thead>\n",
       "  <tbody>\n",
       "    <tr>\n",
       "      <th>0</th>\n",
       "      <td>daniel greenfield, a shillman journalism fello...</td>\n",
       "      <td>FAKE</td>\n",
       "    </tr>\n",
       "    <tr>\n",
       "      <th>1</th>\n",
       "      <td>google pinterest digg linkedin reddit stumbleu...</td>\n",
       "      <td>FAKE</td>\n",
       "    </tr>\n",
       "    <tr>\n",
       "      <th>2</th>\n",
       "      <td>u.s. secretary of state john f. kerry said mon...</td>\n",
       "      <td>REAL</td>\n",
       "    </tr>\n",
       "    <tr>\n",
       "      <th>3</th>\n",
       "      <td>— kaydee king (@kaydeeking) november 9, 2016 t...</td>\n",
       "      <td>FAKE</td>\n",
       "    </tr>\n",
       "    <tr>\n",
       "      <th>4</th>\n",
       "      <td>it's primary day in new york and front-runners...</td>\n",
       "      <td>REAL</td>\n",
       "    </tr>\n",
       "  </tbody>\n",
       "</table>\n",
       "</div>"
      ],
      "text/plain": [
       "                                                Text Label\n",
       "0  daniel greenfield, a shillman journalism fello...  FAKE\n",
       "1  google pinterest digg linkedin reddit stumbleu...  FAKE\n",
       "2  u.s. secretary of state john f. kerry said mon...  REAL\n",
       "3  — kaydee king (@kaydeeking) november 9, 2016 t...  FAKE\n",
       "4  it's primary day in new york and front-runners...  REAL"
      ]
     },
     "execution_count": 27,
     "metadata": {},
     "output_type": "execute_result"
    }
   ],
   "source": [
    "df.head()"
   ]
  },
  {
   "cell_type": "code",
   "execution_count": 28,
   "id": "accf71cf",
   "metadata": {},
   "outputs": [
    {
     "data": {
      "text/html": [
       "<div>\n",
       "<style scoped>\n",
       "    .dataframe tbody tr th:only-of-type {\n",
       "        vertical-align: middle;\n",
       "    }\n",
       "\n",
       "    .dataframe tbody tr th {\n",
       "        vertical-align: top;\n",
       "    }\n",
       "\n",
       "    .dataframe thead th {\n",
       "        text-align: right;\n",
       "    }\n",
       "</style>\n",
       "<table border=\"1\" class=\"dataframe\">\n",
       "  <thead>\n",
       "    <tr style=\"text-align: right;\">\n",
       "      <th></th>\n",
       "      <th>Text</th>\n",
       "      <th>Label</th>\n",
       "    </tr>\n",
       "  </thead>\n",
       "  <tbody>\n",
       "    <tr>\n",
       "      <th>0</th>\n",
       "      <td>daniel greenfield, a shillman journalism fello...</td>\n",
       "      <td>FAKE</td>\n",
       "    </tr>\n",
       "    <tr>\n",
       "      <th>1</th>\n",
       "      <td>google pinterest digg linkedin reddit stumbleu...</td>\n",
       "      <td>FAKE</td>\n",
       "    </tr>\n",
       "    <tr>\n",
       "      <th>2</th>\n",
       "      <td>u.s. secretary of state john f. kerry said mon...</td>\n",
       "      <td>REAL</td>\n",
       "    </tr>\n",
       "    <tr>\n",
       "      <th>3</th>\n",
       "      <td>— kaydee king (@kaydeeking) november 9, 2016 t...</td>\n",
       "      <td>FAKE</td>\n",
       "    </tr>\n",
       "    <tr>\n",
       "      <th>4</th>\n",
       "      <td>it's primary day in new york and front-runners...</td>\n",
       "      <td>REAL</td>\n",
       "    </tr>\n",
       "  </tbody>\n",
       "</table>\n",
       "</div>"
      ],
      "text/plain": [
       "                                                Text Label\n",
       "0  daniel greenfield, a shillman journalism fello...  FAKE\n",
       "1  google pinterest digg linkedin reddit stumbleu...  FAKE\n",
       "2  u.s. secretary of state john f. kerry said mon...  REAL\n",
       "3  — kaydee king (@kaydeeking) november 9, 2016 t...  FAKE\n",
       "4  it's primary day in new york and front-runners...  REAL"
      ]
     },
     "execution_count": 28,
     "metadata": {},
     "output_type": "execute_result"
    }
   ],
   "source": [
    "#Removing hyperlinks from the Text\n",
    "df['Text']=df['Text'].str.replace(r'https\\S+','',regex=True)\n",
    "df.head()"
   ]
  },
  {
   "cell_type": "code",
   "execution_count": 29,
   "id": "0b3989ae",
   "metadata": {},
   "outputs": [
    {
     "data": {
      "text/html": [
       "<div>\n",
       "<style scoped>\n",
       "    .dataframe tbody tr th:only-of-type {\n",
       "        vertical-align: middle;\n",
       "    }\n",
       "\n",
       "    .dataframe tbody tr th {\n",
       "        vertical-align: top;\n",
       "    }\n",
       "\n",
       "    .dataframe thead th {\n",
       "        text-align: right;\n",
       "    }\n",
       "</style>\n",
       "<table border=\"1\" class=\"dataframe\">\n",
       "  <thead>\n",
       "    <tr style=\"text-align: right;\">\n",
       "      <th></th>\n",
       "      <th>Text</th>\n",
       "      <th>Label</th>\n",
       "    </tr>\n",
       "  </thead>\n",
       "  <tbody>\n",
       "    <tr>\n",
       "      <th>0</th>\n",
       "      <td>daniel greenfield a shillman journalism fellow...</td>\n",
       "      <td>FAKE</td>\n",
       "    </tr>\n",
       "    <tr>\n",
       "      <th>1</th>\n",
       "      <td>google pinterest digg linkedin reddit stumbleu...</td>\n",
       "      <td>FAKE</td>\n",
       "    </tr>\n",
       "    <tr>\n",
       "      <th>2</th>\n",
       "      <td>us secretary of state john f kerry said monday...</td>\n",
       "      <td>REAL</td>\n",
       "    </tr>\n",
       "    <tr>\n",
       "      <th>3</th>\n",
       "      <td>kaydee king kaydeeking november   the lesson ...</td>\n",
       "      <td>FAKE</td>\n",
       "    </tr>\n",
       "    <tr>\n",
       "      <th>4</th>\n",
       "      <td>its primary day in new york and frontrunners h...</td>\n",
       "      <td>REAL</td>\n",
       "    </tr>\n",
       "  </tbody>\n",
       "</table>\n",
       "</div>"
      ],
      "text/plain": [
       "                                                Text Label\n",
       "0  daniel greenfield a shillman journalism fellow...  FAKE\n",
       "1  google pinterest digg linkedin reddit stumbleu...  FAKE\n",
       "2  us secretary of state john f kerry said monday...  REAL\n",
       "3   kaydee king kaydeeking november   the lesson ...  FAKE\n",
       "4  its primary day in new york and frontrunners h...  REAL"
      ]
     },
     "execution_count": 29,
     "metadata": {},
     "output_type": "execute_result"
    }
   ],
   "source": [
    "#removing special characters from Text field.\n",
    "df['Text']=df['Text'].str.replace('[^A-Za-z\\s]+', '',regex=True)\n",
    "df.head()"
   ]
  },
  {
   "cell_type": "code",
   "execution_count": 30,
   "id": "655ba74f",
   "metadata": {},
   "outputs": [],
   "source": [
    "#importing nltk and stopwords\n",
    "import nltk\n",
    "from nltk.corpus import stopwords"
   ]
  },
  {
   "cell_type": "code",
   "execution_count": 31,
   "id": "f443ab05",
   "metadata": {},
   "outputs": [
    {
     "name": "stderr",
     "output_type": "stream",
     "text": [
      "[nltk_data] Downloading package stopwords to\n",
      "[nltk_data]     C:\\Users\\saila\\AppData\\Roaming\\nltk_data...\n",
      "[nltk_data]   Package stopwords is already up-to-date!\n"
     ]
    },
    {
     "data": {
      "text/plain": [
       "True"
      ]
     },
     "execution_count": 31,
     "metadata": {},
     "output_type": "execute_result"
    }
   ],
   "source": [
    "nltk.download('stopwords')"
   ]
  },
  {
   "cell_type": "code",
   "execution_count": 32,
   "id": "a2d4fe18",
   "metadata": {},
   "outputs": [],
   "source": [
    "sw=stopwords.words('english')"
   ]
  },
  {
   "cell_type": "code",
   "execution_count": 33,
   "id": "0fb6c641",
   "metadata": {},
   "outputs": [],
   "source": [
    "#removing stopwords from text\n",
    "df['Text']=df['Text'].apply(lambda words:' '.join(word.lower() for word in words.split() if word not in sw))"
   ]
  },
  {
   "cell_type": "markdown",
   "id": "4ff6ea91",
   "metadata": {},
   "source": [
    "*stopwords are removed from the text.*"
   ]
  },
  {
   "cell_type": "code",
   "execution_count": 34,
   "id": "8ef9e466",
   "metadata": {},
   "outputs": [
    {
     "data": {
      "text/html": [
       "<div>\n",
       "<style scoped>\n",
       "    .dataframe tbody tr th:only-of-type {\n",
       "        vertical-align: middle;\n",
       "    }\n",
       "\n",
       "    .dataframe tbody tr th {\n",
       "        vertical-align: top;\n",
       "    }\n",
       "\n",
       "    .dataframe thead th {\n",
       "        text-align: right;\n",
       "    }\n",
       "</style>\n",
       "<table border=\"1\" class=\"dataframe\">\n",
       "  <thead>\n",
       "    <tr style=\"text-align: right;\">\n",
       "      <th></th>\n",
       "      <th>Text</th>\n",
       "      <th>Label</th>\n",
       "    </tr>\n",
       "  </thead>\n",
       "  <tbody>\n",
       "    <tr>\n",
       "      <th>0</th>\n",
       "      <td>daniel greenfield shillman journalism fellow f...</td>\n",
       "      <td>FAKE</td>\n",
       "    </tr>\n",
       "    <tr>\n",
       "      <th>1</th>\n",
       "      <td>google pinterest digg linkedin reddit stumbleu...</td>\n",
       "      <td>FAKE</td>\n",
       "    </tr>\n",
       "    <tr>\n",
       "      <th>2</th>\n",
       "      <td>us secretary state john f kerry said monday st...</td>\n",
       "      <td>REAL</td>\n",
       "    </tr>\n",
       "    <tr>\n",
       "      <th>3</th>\n",
       "      <td>kaydee king kaydeeking november lesson tonight...</td>\n",
       "      <td>FAKE</td>\n",
       "    </tr>\n",
       "    <tr>\n",
       "      <th>4</th>\n",
       "      <td>primary day new york frontrunners hillary clin...</td>\n",
       "      <td>REAL</td>\n",
       "    </tr>\n",
       "  </tbody>\n",
       "</table>\n",
       "</div>"
      ],
      "text/plain": [
       "                                                Text Label\n",
       "0  daniel greenfield shillman journalism fellow f...  FAKE\n",
       "1  google pinterest digg linkedin reddit stumbleu...  FAKE\n",
       "2  us secretary state john f kerry said monday st...  REAL\n",
       "3  kaydee king kaydeeking november lesson tonight...  FAKE\n",
       "4  primary day new york frontrunners hillary clin...  REAL"
      ]
     },
     "execution_count": 34,
     "metadata": {},
     "output_type": "execute_result"
    }
   ],
   "source": [
    "df.head()"
   ]
  },
  {
   "cell_type": "code",
   "execution_count": 35,
   "id": "fa13a2c8",
   "metadata": {},
   "outputs": [
    {
     "name": "stderr",
     "output_type": "stream",
     "text": [
      "[nltk_data] Downloading package wordnet to\n",
      "[nltk_data]     C:\\Users\\saila\\AppData\\Roaming\\nltk_data...\n",
      "[nltk_data]   Package wordnet is already up-to-date!\n"
     ]
    },
    {
     "data": {
      "text/plain": [
       "True"
      ]
     },
     "execution_count": 35,
     "metadata": {},
     "output_type": "execute_result"
    }
   ],
   "source": [
    "nltk.download('wordnet')"
   ]
  },
  {
   "cell_type": "code",
   "execution_count": 36,
   "id": "7ab6917c",
   "metadata": {},
   "outputs": [],
   "source": [
    "#forming tokens using lemmatization\n",
    "t=nltk.tokenize.WhitespaceTokenizer()\n",
    "l=nltk.stem.WordNetLemmatizer()\n",
    "def lt(text):\n",
    "    return [l.lemmatize(w) for w in t.tokenize(text)]\n",
    "df['Tokens']=df['Text'].apply(lt)"
   ]
  },
  {
   "cell_type": "markdown",
   "id": "73a7bca5",
   "metadata": {},
   "source": [
    "*Divide the text into number of tokens to get most frequent words for visualization.*"
   ]
  },
  {
   "cell_type": "code",
   "execution_count": 37,
   "id": "401fa331",
   "metadata": {},
   "outputs": [
    {
     "data": {
      "text/html": [
       "<div>\n",
       "<style scoped>\n",
       "    .dataframe tbody tr th:only-of-type {\n",
       "        vertical-align: middle;\n",
       "    }\n",
       "\n",
       "    .dataframe tbody tr th {\n",
       "        vertical-align: top;\n",
       "    }\n",
       "\n",
       "    .dataframe thead th {\n",
       "        text-align: right;\n",
       "    }\n",
       "</style>\n",
       "<table border=\"1\" class=\"dataframe\">\n",
       "  <thead>\n",
       "    <tr style=\"text-align: right;\">\n",
       "      <th></th>\n",
       "      <th>Text</th>\n",
       "      <th>Label</th>\n",
       "      <th>Tokens</th>\n",
       "    </tr>\n",
       "  </thead>\n",
       "  <tbody>\n",
       "    <tr>\n",
       "      <th>0</th>\n",
       "      <td>daniel greenfield shillman journalism fellow f...</td>\n",
       "      <td>FAKE</td>\n",
       "      <td>[daniel, greenfield, shillman, journalism, fel...</td>\n",
       "    </tr>\n",
       "    <tr>\n",
       "      <th>1</th>\n",
       "      <td>google pinterest digg linkedin reddit stumbleu...</td>\n",
       "      <td>FAKE</td>\n",
       "      <td>[google, pinterest, digg, linkedin, reddit, st...</td>\n",
       "    </tr>\n",
       "    <tr>\n",
       "      <th>2</th>\n",
       "      <td>us secretary state john f kerry said monday st...</td>\n",
       "      <td>REAL</td>\n",
       "      <td>[u, secretary, state, john, f, kerry, said, mo...</td>\n",
       "    </tr>\n",
       "    <tr>\n",
       "      <th>3</th>\n",
       "      <td>kaydee king kaydeeking november lesson tonight...</td>\n",
       "      <td>FAKE</td>\n",
       "      <td>[kaydee, king, kaydeeking, november, lesson, t...</td>\n",
       "    </tr>\n",
       "    <tr>\n",
       "      <th>4</th>\n",
       "      <td>primary day new york frontrunners hillary clin...</td>\n",
       "      <td>REAL</td>\n",
       "      <td>[primary, day, new, york, frontrunners, hillar...</td>\n",
       "    </tr>\n",
       "  </tbody>\n",
       "</table>\n",
       "</div>"
      ],
      "text/plain": [
       "                                                Text Label  \\\n",
       "0  daniel greenfield shillman journalism fellow f...  FAKE   \n",
       "1  google pinterest digg linkedin reddit stumbleu...  FAKE   \n",
       "2  us secretary state john f kerry said monday st...  REAL   \n",
       "3  kaydee king kaydeeking november lesson tonight...  FAKE   \n",
       "4  primary day new york frontrunners hillary clin...  REAL   \n",
       "\n",
       "                                              Tokens  \n",
       "0  [daniel, greenfield, shillman, journalism, fel...  \n",
       "1  [google, pinterest, digg, linkedin, reddit, st...  \n",
       "2  [u, secretary, state, john, f, kerry, said, mo...  \n",
       "3  [kaydee, king, kaydeeking, november, lesson, t...  \n",
       "4  [primary, day, new, york, frontrunners, hillar...  "
      ]
     },
     "execution_count": 37,
     "metadata": {},
     "output_type": "execute_result"
    }
   ],
   "source": [
    "df.head()"
   ]
  },
  {
   "cell_type": "code",
   "execution_count": 38,
   "id": "de978f29",
   "metadata": {},
   "outputs": [],
   "source": [
    "#finding tokens length\n",
    "df['word_length']=df['Text'].str.split().str.len()"
   ]
  },
  {
   "cell_type": "code",
   "execution_count": 39,
   "id": "ef2c9d56",
   "metadata": {},
   "outputs": [
    {
     "data": {
      "text/html": [
       "<div>\n",
       "<style scoped>\n",
       "    .dataframe tbody tr th:only-of-type {\n",
       "        vertical-align: middle;\n",
       "    }\n",
       "\n",
       "    .dataframe tbody tr th {\n",
       "        vertical-align: top;\n",
       "    }\n",
       "\n",
       "    .dataframe thead th {\n",
       "        text-align: right;\n",
       "    }\n",
       "</style>\n",
       "<table border=\"1\" class=\"dataframe\">\n",
       "  <thead>\n",
       "    <tr style=\"text-align: right;\">\n",
       "      <th></th>\n",
       "      <th>Text</th>\n",
       "      <th>Label</th>\n",
       "      <th>Tokens</th>\n",
       "      <th>word_length</th>\n",
       "    </tr>\n",
       "  </thead>\n",
       "  <tbody>\n",
       "    <tr>\n",
       "      <th>0</th>\n",
       "      <td>daniel greenfield shillman journalism fellow f...</td>\n",
       "      <td>FAKE</td>\n",
       "      <td>[daniel, greenfield, shillman, journalism, fel...</td>\n",
       "      <td>679</td>\n",
       "    </tr>\n",
       "    <tr>\n",
       "      <th>1</th>\n",
       "      <td>google pinterest digg linkedin reddit stumbleu...</td>\n",
       "      <td>FAKE</td>\n",
       "      <td>[google, pinterest, digg, linkedin, reddit, st...</td>\n",
       "      <td>235</td>\n",
       "    </tr>\n",
       "    <tr>\n",
       "      <th>2</th>\n",
       "      <td>us secretary state john f kerry said monday st...</td>\n",
       "      <td>REAL</td>\n",
       "      <td>[u, secretary, state, john, f, kerry, said, mo...</td>\n",
       "      <td>242</td>\n",
       "    </tr>\n",
       "    <tr>\n",
       "      <th>3</th>\n",
       "      <td>kaydee king kaydeeking november lesson tonight...</td>\n",
       "      <td>FAKE</td>\n",
       "      <td>[kaydee, king, kaydeeking, november, lesson, t...</td>\n",
       "      <td>237</td>\n",
       "    </tr>\n",
       "    <tr>\n",
       "      <th>4</th>\n",
       "      <td>primary day new york frontrunners hillary clin...</td>\n",
       "      <td>REAL</td>\n",
       "      <td>[primary, day, new, york, frontrunners, hillar...</td>\n",
       "      <td>181</td>\n",
       "    </tr>\n",
       "  </tbody>\n",
       "</table>\n",
       "</div>"
      ],
      "text/plain": [
       "                                                Text Label  \\\n",
       "0  daniel greenfield shillman journalism fellow f...  FAKE   \n",
       "1  google pinterest digg linkedin reddit stumbleu...  FAKE   \n",
       "2  us secretary state john f kerry said monday st...  REAL   \n",
       "3  kaydee king kaydeeking november lesson tonight...  FAKE   \n",
       "4  primary day new york frontrunners hillary clin...  REAL   \n",
       "\n",
       "                                              Tokens  word_length  \n",
       "0  [daniel, greenfield, shillman, journalism, fel...          679  \n",
       "1  [google, pinterest, digg, linkedin, reddit, st...          235  \n",
       "2  [u, secretary, state, john, f, kerry, said, mo...          242  \n",
       "3  [kaydee, king, kaydeeking, november, lesson, t...          237  \n",
       "4  [primary, day, new, york, frontrunners, hillar...          181  "
      ]
     },
     "execution_count": 39,
     "metadata": {},
     "output_type": "execute_result"
    }
   ],
   "source": [
    "df.head()\n"
   ]
  },
  {
   "cell_type": "code",
   "execution_count": 40,
   "id": "b30c51ab",
   "metadata": {},
   "outputs": [],
   "source": [
    "#removing duplicate values\n",
    "df.drop_duplicates(subset='Text',inplace=True)"
   ]
  },
  {
   "cell_type": "code",
   "execution_count": 41,
   "id": "b3ccd25b",
   "metadata": {},
   "outputs": [
    {
     "data": {
      "text/html": [
       "<div>\n",
       "<style scoped>\n",
       "    .dataframe tbody tr th:only-of-type {\n",
       "        vertical-align: middle;\n",
       "    }\n",
       "\n",
       "    .dataframe tbody tr th {\n",
       "        vertical-align: top;\n",
       "    }\n",
       "\n",
       "    .dataframe thead th {\n",
       "        text-align: right;\n",
       "    }\n",
       "</style>\n",
       "<table border=\"1\" class=\"dataframe\">\n",
       "  <thead>\n",
       "    <tr style=\"text-align: right;\">\n",
       "      <th></th>\n",
       "      <th>Text</th>\n",
       "      <th>Label</th>\n",
       "      <th>Tokens</th>\n",
       "      <th>word_length</th>\n",
       "    </tr>\n",
       "  </thead>\n",
       "  <tbody>\n",
       "    <tr>\n",
       "      <th>0</th>\n",
       "      <td>daniel greenfield shillman journalism fellow f...</td>\n",
       "      <td>FAKE</td>\n",
       "      <td>[daniel, greenfield, shillman, journalism, fel...</td>\n",
       "      <td>679</td>\n",
       "    </tr>\n",
       "    <tr>\n",
       "      <th>1</th>\n",
       "      <td>google pinterest digg linkedin reddit stumbleu...</td>\n",
       "      <td>FAKE</td>\n",
       "      <td>[google, pinterest, digg, linkedin, reddit, st...</td>\n",
       "      <td>235</td>\n",
       "    </tr>\n",
       "    <tr>\n",
       "      <th>2</th>\n",
       "      <td>us secretary state john f kerry said monday st...</td>\n",
       "      <td>REAL</td>\n",
       "      <td>[u, secretary, state, john, f, kerry, said, mo...</td>\n",
       "      <td>242</td>\n",
       "    </tr>\n",
       "    <tr>\n",
       "      <th>3</th>\n",
       "      <td>kaydee king kaydeeking november lesson tonight...</td>\n",
       "      <td>FAKE</td>\n",
       "      <td>[kaydee, king, kaydeeking, november, lesson, t...</td>\n",
       "      <td>237</td>\n",
       "    </tr>\n",
       "    <tr>\n",
       "      <th>4</th>\n",
       "      <td>primary day new york frontrunners hillary clin...</td>\n",
       "      <td>REAL</td>\n",
       "      <td>[primary, day, new, york, frontrunners, hillar...</td>\n",
       "      <td>181</td>\n",
       "    </tr>\n",
       "  </tbody>\n",
       "</table>\n",
       "</div>"
      ],
      "text/plain": [
       "                                                Text Label  \\\n",
       "0  daniel greenfield shillman journalism fellow f...  FAKE   \n",
       "1  google pinterest digg linkedin reddit stumbleu...  FAKE   \n",
       "2  us secretary state john f kerry said monday st...  REAL   \n",
       "3  kaydee king kaydeeking november lesson tonight...  FAKE   \n",
       "4  primary day new york frontrunners hillary clin...  REAL   \n",
       "\n",
       "                                              Tokens  word_length  \n",
       "0  [daniel, greenfield, shillman, journalism, fel...          679  \n",
       "1  [google, pinterest, digg, linkedin, reddit, st...          235  \n",
       "2  [u, secretary, state, john, f, kerry, said, mo...          242  \n",
       "3  [kaydee, king, kaydeeking, november, lesson, t...          237  \n",
       "4  [primary, day, new, york, frontrunners, hillar...          181  "
      ]
     },
     "execution_count": 41,
     "metadata": {},
     "output_type": "execute_result"
    }
   ],
   "source": [
    "df.head()"
   ]
  },
  {
   "cell_type": "code",
   "execution_count": 42,
   "id": "dea5ee3d",
   "metadata": {},
   "outputs": [
    {
     "data": {
      "text/plain": [
       "(6046, 4)"
      ]
     },
     "execution_count": 42,
     "metadata": {},
     "output_type": "execute_result"
    }
   ],
   "source": [
    "#shape after removing of duplicates\n",
    "df.shape"
   ]
  },
  {
   "cell_type": "markdown",
   "id": "ac6dbdd4",
   "metadata": {},
   "source": [
    "*Duplicates are removed from dataset, so the shape of dataset is reduced.*\n",
    "\n"
   ]
  },
  {
   "cell_type": "markdown",
   "id": "c9cf701b",
   "metadata": {},
   "source": [
    "**VISUALIZATION**"
   ]
  },
  {
   "cell_type": "code",
   "execution_count": 43,
   "id": "d5c7fc2f",
   "metadata": {},
   "outputs": [
    {
     "data": {
      "text/plain": [
       "FAKE    3057\n",
       "REAL    2989\n",
       "Name: Label, dtype: int64"
      ]
     },
     "execution_count": 43,
     "metadata": {},
     "output_type": "execute_result"
    }
   ],
   "source": [
    "#number of real and fake news\n",
    "df['Label'].value_counts()"
   ]
  },
  {
   "cell_type": "code",
   "execution_count": 44,
   "id": "60f820cf",
   "metadata": {},
   "outputs": [
    {
     "data": {
      "text/plain": [
       "<Axes: >"
      ]
     },
     "execution_count": 44,
     "metadata": {},
     "output_type": "execute_result"
    },
    {
     "data": {
      "image/png": "[encoded data removed]",
      "text/plain": [
       "<Figure size 640x480 with 1 Axes>"
      ]
     },
     "metadata": {},
     "output_type": "display_data"
    }
   ],
   "source": [
    "#bar chart shows true and fake samples\n",
    "df['Label'].value_counts().plot.bar()"
   ]
  },
  {
   "cell_type": "markdown",
   "id": "15a6d248",
   "metadata": {},
   "source": [
    "*Bar chart shows the real and fake samples ratio.*"
   ]
  },
  {
   "cell_type": "code",
   "execution_count": 45,
   "id": "06031a94",
   "metadata": {},
   "outputs": [
    {
     "data": {
      "image/png": "[encoded data removed]",
      "text/plain": [
       "<Figure size 1500x700 with 1 Axes>"
      ]
     },
     "metadata": {},
     "output_type": "display_data"
    },
    {
     "data": {
      "image/png": "[encoded data removed]",
      "text/plain": [
       "<Figure size 640x480 with 1 Axes>"
      ]
     },
     "metadata": {},
     "output_type": "display_data"
    }
   ],
   "source": [
    "#density of true and fake news using word count\n",
    "import matplotlib.pyplot as plt\n",
    "import seaborn as sns\n",
    "sns.set(color_codes=True)\n",
    "plt.figure(figsize=(15,7))\n",
    "cmap=['red','green']\n",
    "labels=['REAL','FAKE']\n",
    "for label,clr in zip(labels,cmap):\n",
    "    sns.kdeplot(df.loc[(df['Label']==label),'word_length'],color=clr,fill=True,label=label)\n",
    "    plt.title(\"Density of True and False values\",color=\"Blue\")\n",
    "    plt.show()"
   ]
  },
  {
   "cell_type": "code",
   "execution_count": 46,
   "id": "65b43df4",
   "metadata": {},
   "outputs": [
    {
     "data": {
      "image/png": "[encoded data removed]",
      "text/plain": [
       "<Figure size 1500x700 with 1 Axes>"
      ]
     },
     "metadata": {},
     "output_type": "display_data"
    }
   ],
   "source": [
    "sns.set(color_codes=True)\n",
    "plt.figure(figsize=(15,7))\n",
    "cmap=['red','green']\n",
    "labels=['REAL','FAKE']\n",
    "for label,clr in zip(labels,cmap):\n",
    "    sns.kdeplot(df.loc[(df['Label']==label),'word_length'],color=clr,fill=True,label=label)\n",
    "    plt.title(\"Real and Fake Densities\",color=\"Blue\")"
   ]
  },
  {
   "cell_type": "code",
   "execution_count": 47,
   "id": "f08e1a71",
   "metadata": {},
   "outputs": [
    {
     "data": {
      "image/png": "[encoded data removed]",
      "text/plain": [
       "<Figure size 1500x700 with 1 Axes>"
      ]
     },
     "metadata": {},
     "output_type": "display_data"
    }
   ],
   "source": [
    "#displaying most frequent words in dataset\n",
    "import itertools\n",
    "import collections\n",
    "import pandas as pd\n",
    "lt=list(df['Tokens'])\n",
    "t=list(itertools.chain(*lt))\n",
    "c=collections.Counter(t)\n",
    "d=pd.DataFrame(c.most_common(30),columns=['words','count'])\n",
    "fig,ax=plt.subplots(figsize=(15,7))\n",
    "d.sort_values(by='count').plot.barh(x='words',y='count',ax=ax,color='blue')\n",
    "plt.title(\"Most Frequent Words in dataset\",color=\"Red\")\n",
    "plt.show()\n"
   ]
  },
  {
   "cell_type": "markdown",
   "id": "c278d224",
   "metadata": {},
   "source": [
    "*Here the above graph represents the most frequent words in dataset.*"
   ]
  },
  {
   "cell_type": "markdown",
   "id": "b0224abb",
   "metadata": {},
   "source": [
    "**SPLITTING DATA**"
   ]
  },
  {
   "cell_type": "code",
   "execution_count": 48,
   "id": "1f1621b2",
   "metadata": {},
   "outputs": [],
   "source": [
    "x=df.iloc[:,0].values\n",
    "y=df.iloc[:,1].values"
   ]
  },
  {
   "cell_type": "markdown",
   "id": "72696518",
   "metadata": {},
   "source": [
    "*x is independent variable which is text or message y is target variable which is label (REAL OR FAKE).*"
   ]
  },
  {
   "cell_type": "code",
   "execution_count": 49,
   "id": "b2447338",
   "metadata": {},
   "outputs": [
    {
     "name": "stdout",
     "output_type": "stream",
     "text": [
      "['daniel greenfield shillman journalism fellow freedom center new york writer focusing radical islam final stretch election hillary rodham clinton gone war fbi word unprecedented thrown around often election ought retired still unprecedented nominee major political party go war fbi thats exactly hillary people done coma patients waking watching hour cnn hospital beds would assume fbi director james comey hillarys opponent election fbi attack everyone obama cnn hillarys people circulated letter attacking comey currently media hit pieces lambasting targeting trump wouldnt surprising clintons allies start running attack ads fbi fbis leadership warned entire leftwing establishment form lynch mob continue going hillary fbis credibility attacked media democrats preemptively head results investigation clinton foundation hillary clinton covert struggle fbi agents obamas doj people gone explosively public new york times compared comey j edgar hoover bizarre headline james comey role recalls hoovers fbi fairly practically admits front spouting nonsense boston globe published column calling comeys resignation outdone time editorial claiming scandal really attack women james carville appeared msnbc remind everyone still alive insane accused comey coordinating house republicans kgb thought vast right wing conspiracy stretch countless media stories charge comey violating procedure know whats procedural violation emailing classified information stored bathroom server senator harry reid sent comey letter accusing violating hatch act hatch act nice idea much relevance age obama tenth amendment cable news spectrum quickly filled media hacks glancing wikipedia article hatch act table accusing fbi director one awkward conspiracies hillary ever james comey really hurt hillary picked one hell strange way long ago democrats breathing sigh relief gave hillary clinton pass prominent public statement really elect trump keeping email scandal going trash investigation payroll house republicans kgb back playing coy sudden development vladimir putin paul ryan talked taking look anthony weiners computer either comey cunning fbi director ever lived hes awkwardly trying navigate political mess trapped doj leadership whose political futures tied hillarys victory bureau whose apolitical agents want allowed jobs truly mysterious thing hillary associates decided go war respected federal agency americans like fbi hillary clinton enjoys unfavorable rating interesting question hillarys old strategy lie deny fbi even criminal investigation underway instead associates insisted security review fbi corrected shrugged old breezy denial approach given way savage assault fbi pretending nothing wrong bad strategy better one picking fight fbi lunatic clinton associates try claim fbi really kgb two possible explanations hillary clinton might arrogant enough lash fbi believes victory near kind hubris led plan victory fireworks display could lead declare war fbi irritating final miles campaign explanation people panicked going war fbi behavior smart focused presidential campaign act desperation presidential candidate decides option try destroy credibility fbi thats hubris fear fbi might reveal original fbi investigation hillary clinton confident could ride good reason believing hillary clinton gone place paranoid wreck within short space time positive clinton campaign promising unite country replaced desperate flailing operation focused energy fighting fbi theres one reason bizarre behavior clinton campaign decided fbi investigation latest batch emails poses threat survival gone fighting fbi unprecedented step born fear hard know whether fear justified existence fear already tells us whole lot clinton loyalists rigged old investigation knew outcome ahead time well knew debate questions suddenly longer control afraid smell fear fbi wiretaps investigation clinton foundation finding new emails time clintonworld panicked spinmeisters clintonworld claimed email scandal much smoke without fire thats appearance impropriety without substance isnt react smoke respond fire misguided assault fbi tells us hillary clinton allies afraid revelation bigger fundamental illegality email setup email setup preemptive cover clinton campaign panicked badly belief right wrong whatever crime illegal setup meant cover risk exposed clintons weathered countless scandals years whatever protecting time around bigger usual corruption bribery sexual assaults abuses power followed around throughout years bigger damaging allegations already come dont want fbi investigators anywhere near campaign comey pure intimidation also warning senior fbi people value careers warned stay away democrats closing ranks around nominee fbi ugly unprecedented scene may also last stand hillary clinton awkwardly wound way numerous scandals election cycle shes never shown fear desperation changed whatever afraid lies buried emails huma abedin bring like nothing else'\n",
      " 'google pinterest digg linkedin reddit stumbleupon print delicious pocket tumblr two fundamental truths world paul ryan desperately wants president paul ryan never president today proved particularly staggering example political cowardice paul ryan rererereversed course announced back trump train aboutface weeks ago previously declared would supporting defending trump tape made public trump bragged assaulting women suddenly ryan appearing protrump rally boldly declaring already sent vote make president united states surreal moment figurehead republican party dosed gasoline got stage chilly afternoon wisconsin lit match speakerryan says voted realdonaldtrump republicans time come home pictwittercomwcvscgai abc news politics abcpolitics november democratic party couldnt asked better moment film ryans chances ever becoming president went zero instant wreckage trump leave behind wake cravenly backed campaign recover ryans career manages limp way dnc tape locked loaded used every ad election day ringing endorsement man clearly hates personal level speaks volumes spinelessness ryan postured principled conservative one uncomfortable trumps unapologetic bigotry sexism however push came shove paul ryan like many colleagues turned sniveling appeaser lofty tak conviction principles house cards collapsed slightest breeze whats especially bizarre close ryan came making unscathed months speaker house refused comment trump strategy seemed keep head pretend trump didnt exist hope nobody remembered happened days away election screwed ugly election done good exposing utter cowardice republicans feigned moral courage reality television star spit hijacked party insulted wives got every last one kneel turn events featured image via twitter'\n",
      " 'us secretary state john f kerry said monday stop paris later week amid criticism top american officials attended sundays unity march terrorism kerry said expects arrive paris thursday evening heads home week abroad said fly france conclusion series meetings scheduled thursday sofia bulgaria plans meet next day foreign minister laurent fabius president francois hollande return washington visit kerry family childhood ties country speaks fluent french could address criticism united states snubbed france darkest hour many years french press monday filled questions neither president obama kerry attended sundays march leaders nations obama said stayed away security needs taxing country kerry prior commitments among roughly leaders attend israeli prime minister benjamin netanyahu stranger intense security marched beside hollande city streets highest ranking us officials attending march jane hartley ambassador france victoria nuland assistant secretary state european affairs attorney general eric h holder jr paris meetings law enforcement officials participate march kerry spent sunday business summit hosted indias prime minister narendra modi united states eager india relax stringent laws function barriers foreign investment hopes modis government act open huge indian market american businesses news conference kerry brushed aside criticism united states sent senior official paris quibbling little bit noted many staffers american embassy paris attended march including ambassador said wanted present march could prior commitments india going way home make crystal clear passionately feel events taken place said dont think people france doubts americas understanding happened personal sense loss deep commitment people france moment trauma'\n",
      " ...\n",
      " 'antitrump protesters tools oligarchy reform always provokes rage part profit old order arthur schlesinger jr crisis old order paul craig roberts antitrump protesters besmirching name progressives pretending progressives refusing accept outcome presidential election look like acting worse white trash denouncing think know thugs hire paid oligarchy delegitimize trumps presidency way washington german marshall fund paid students kiev protest democratically elected ukrainian government order prepare way coup organization changeorg claims progressive group might front along progressive groups oligarchy destroying reputation progressives circulating petition directs electors electoral collage annul election casting votes hillary remember upset progressives trump said might accept election result evidence vote rigged progressives damned trump saying might certain conditions western presstitutes used protests kiev delegitimize democratically elected government set coup protest pay good enough nonukrainians came nearby countries participate protest order collect money time posted amounts paid daily protesters reports came eastern western europe people ukrainian paid protest ukrainians thing going trump protests cnn reports many americans across country donald trumps victory outcome simply refuse accept tens thousands filled streets least us cities overnight exact reporting oligarchy desired presstitutes got hope one thinks simultaneous protests cities spontaneous event independent protests manage come slogans signs night following election point protests interest served romans always asked benefits one answer oligarchy oligarchy benefits trump threat oligarchy intends stop giveaway american jobs foreigners jobs giveaway sanctified neoliberal junk economists free trade one main reasons st century worsening us income distribution money formerly paid middle class wages salaries american manufacturing employees college graduates rerouted pockets one percent us corporations move production goods services sold americans offshore asian countries china india wage bill falls money formerly paid middle class incomes goes instead executive bonuses dividends capital gains shareholders ladders upward mobility made america land opportunity dismantled sole purpose making handful people multibillionaires trump threat oligarchy intends peaceful relations russia order replace profitable soviet threat oligarchy neoconservative agents worked overtime recreate russian threat demonizing russia accustomed many decades excess profits profitable cold war militarysecurity complex angry president reagan brought cold war end leaches american taxpayers could get cold war going soviet union collapsed result rightwing coup soviet president mikhail gorbachev militarysecurity complex zionist neoconservative agents cooked war terror keep money flowing one percent hard presstitute media worked create fear muslim threat even insouciant americans knew muslims thousands icbms carrying powerful thermonuclear weapons capable destroying entirety united states minutes neither muslims red army capable overrunning europe couple days indeed muslims havent needed army refugees washingtons wars enabled europeans overrunning europe excuse annual trillion dollar billion militarysecurity budget missing oligarchy created new hitler russia hillary oligarchys principle agent heating new cold war hillary tool enriched oligarchy whose job president protect increase trillion dollar budget militarysecurity complex hillary white house looting american taxpayers behalf wealth one percent could go forward unimpeded trump resolves russian threat oligarchy takes income hit hillarys job president also privatize social security order wall street benefactors rip americans way americans ripped insurance companies obamacare americans pay attention think mistakenly fbi cleared hillary violating national security protocols email practices fbi said hillary violate national security result carelessness ignorance got indictment fbi concluded intentionally violate national security protocols investigation clinton foundation continues words order protect hillary fbi fell back ancient common law rule crime without intent see pcr lawrence stratton tyranny good intentions one would think protesters legitimate would celebrating trumps victory unlike hillary promises reduce tensions powerful russia hope also china unlike hillary trump says concerned absence careers people protesting streets cities words protests american people electing trump president pointless protests happening one reason oligarchy intends delegitimize trump presidency president trump delegitimized easier oligarchy assassinate unless oligarchy appoint control trumps government trump prime candidate assassination protests trump suspicious another reason unlike hillary obama george w bush donald trump slaughtered dislocated millions peoples seven countries sending millions refugees oligarchys wars overrun europe trump earned fortune hook crook selling us government influence foreign agents bill hillary protesters protesting answer except hired protest maidan protesters kiev hired protest us german financed ngos protests kiev equally pointless presidential elections months away ukrainians really believed president conspiring russia keep ukraine becoming western puppet state wished become puppet state regardless costs opportunity vote government hand reason protests orchestrate coup us succeed putting agent control new ukrainian government victoria nuland us ambassador kiev confirmed telephone conversation available internet maidan protests pointless except making coup possible protests without doubt arranged washington assistant secretary state victoria nuland neoconservative brought state department hillary clinton purpose creating conflict russia trump protested order make vulnerable event proves threat oligarchy thought trump presidency oligarchy still power makes real reforms difficult achieve symbolic reforms product contest president trump oligarchs karl marx learned historical experience lenin stalin pol pot learned karl marx change cannot occur displaced ruling class left intact revolution proof throughout south america every revolution indigenous people left unmolested spanish ruling class every revolution overthrown collusion ruling class washington washington conspired traditional elites remove elected presidents honduras number occasions recently washington helped elites evict female presidents argentina brazil presidents venezuela ecuador bolivia crosshairs unlikely survive washington determined get hands julian assange achieve washington intends overthrow ecuadoran government defiance washington gave julian assange political asylum hugo chavez power exile exterminate spanish ruling class venezuela ruling class participated cia coup chavez cia could kill chavez people military forced release instead punishing criminals would murdered chavez let go according marx lenin stalin classic mistake revolutionary rely good overthrown ruling class certain road defeat revolution latin american proved unable learn lesson revolutions cannot conciliatory trump dealmaker oligarchy permit sheen success exchange real change trump perfect might fail back two important elements program reduce tensions major nuclear powers halt washingtons policy permitting globalism destroy americans economic prospects tensions nuclear powers worsen wont worry problems combination economy hollowed globalism immigration economic nightmare trump understands reason support note believe trump ruse conducted oligarchy however hillary boughtandpaidfor representative oligarchy elaborate ruse unnecessary preferable oligarchy win platform install president opposite platform change around another sellout increases anger people hillary oligarchy would voters mandate platform dr paul craig roberts assistant secretary treasury economic policy associate editor wall street journal columnist business week scripps howard news service creators syndicate many university appointments internet columns attracted worldwide following roberts latest books failure laissez faire capitalism economic dissolution west america lost neoconservative threat world order'\n",
      " 'addis ababa ethiopia president obama convened meeting leaders several east african nations african union monday effort address worsening situation south sudan even met ethiopias prime minister discuss strengthen human rights democratic institutions resolution sight ongoing conflict south sudan obama brought together top officials ethiopia uganda kenya sudan au chart strategy event latest round peace talks fail african nations led ethiopia trying broker peace south sudan intergovernmental authority development igad regional body almost ready present possible compromise warring parties two sides aug respond proposal administration officials little expectation accept monday obama praised regional leaders showing extraordinary leadership trying address continuing situation south sudan group included ethiopian prime minister hailemariam desalegn ugandan president yoweri museveni kenyan president uhuru kenyatta african union chairperson dlamini zuma sudans minister foreign affairs ibrahim ghandour gives us delegation opportunity learn progress made appears continued roadblocks partner make progress obama said hope actually bring kind peace people south sudan desperately need question south sudan nation united states helped bring existence years effort george w bush obama administrations vexed american policymakers years december south sudan president salva kiir accused riek machar served vice president attempting coup detat two longtime political rivals different ethnic groups kiir dinka machar nuer come together form government country first created tribal differences helped fuel conflict war largely focused control nations oil fields south sudans primary source revenue princeton lyman us special envoy sudan south sudan noted first took envoy united states spent billion peacekeeping assistance two nations four years ago big investment added point million people facing food shortages roughly million displaced homes additional south sudanese fled across border neighboring countries including ethiopia conflict also poses major economic problem kenya major investments south sudan fighting broke lapsset corridor project aimed transporting oil south sudan kenyan port lamu according ej hogendoorn deputy program director africa international crisis group planned transportation infrastructure development could engine development many parts east africa unfortunately course thats hold war said obama spent part afternoon addressing regional conflict africa devoted rest day strengthening ties ethiopia whose alliance united states dates back century current government come sharp criticism treatment political opponents journalists obama first sitting us president visit ethiopia news conference monday afternoon obama hailemariam said frank discussion ethiopias human rights practices need improvement ethiopia africas number two jailer journalists according committee protect journalists ruling party percent seats mays parliamentary elections white house national security adviser susan rice asked last week whether considered ethiopia democracy replied irony one hundred percent news conference obama twice referred ethiopian government democratically elected dont bite tongue obama said raising concerns issues ethiopia position respect hailemariam part said commitment democracy real skin deep added later people could expect sweeping reforms given fact military rule ended couple decades ago something understood fledgling democracy two leaders also discussed collaboration counterterrorism area ethiopia active leader white house announced monday work congress provide approximately million year new training equipment capacitybuilding aid african allies administration also said would provide least million assistance fiscal year combat violent extremism east africa money intended foster collaboration among security forces law enforcement government officials community leaders members civil society officials said obama praised ethiopias work curb extremist activity noted government labeled opposition groups posing greater threat us intelligence would indicate intelligence indicates may oppose government tipped terrorism said united states provides million assistance ethiopia annually vast bulk million comes us agency international development rest largely securityrelated last fiscal year nearly million went health programs million went humanitarian aid obama said ethiopia proven global leader development past years lifted millions people poverty many people around world image ethiopia remains stuck past remembering drought famine said two leaders appeared friendly rapport throughout news conference hailemariam described country scoring series firsts along cradle mankind said ethiopia birthplace coffee elicited smile obama obama said impressed ethiopians unusual pets chance see famous lions live grounds said im considering getting white house conceded ill make sure dogs safe'\n",
      " 'jeb bush suddenly attacking trump heres matters jeb bush isnt pulling punches anymore comes donald trump former florida governor delicately danced around billionaire businessman presidential primary far gloves came week bush called trump closet democrat trying stunt trumps rise attempting recover political mojo jeb desperately trying find swagger right gop strategist ford oconnell said knock jeb hes low voltage willing fight best way shake perceptions engage person media loop change bushs approach point hasnt lobbed many direct attacks trump delicately condemning criticism arizona sen john mccains war service attacks fox news megyn kelly even months first debate bush swatted story allegedly called trump buffoon clown saying trumps language divisive trump called bush true gentleman detente ended week far toptier candidates avoided directly attacking trump treating kid gloves anger part gop base trump appeals words voters need hope trump fades splitscreen new hampshire town halls week bush trump volleyed attacks bush took pointed jabs current frontrunner underscoring trumps past history democrat liberal positions used hold mr trump doesnt proven conservative record bush said according washington post democrat longer last decade republican given money democrats hes given republicans bush went attack trump hardline immigration proposal arguing vitriolic would massive price tag hundreds billions dollars costs implement plans conservative plan bush said going pitch lets support someone dont guess stands hes consistent hes governor hes consistently views next days bush continued hits social media trump never one miss moment retaliate didnt pull punches either town hall wednesday trump blasted bush unelectable lowenergy person know whats happening jebs crowd street theyre sleeping trump said applause since trump also ramped attacks bush twitter move hot rhetoric may tripped bush though consider use phrase anchor babies immigration reform something bush passionate even written book hes often criticized within gop liberal issue instead combative bush appeared use loaded phrase first time left struggling defend use may signal attackdog crouch hes taking still one isnt completely comfortable bush earlier said wanted campaign joyfully candidates embraced hitting trump kentucky sen rand paul went forcefully debate though punch trump hedging bets support hillary clinton wins presidency didnt appear land candidates like ohio gov john kasich demurred earlier gop debate night former texas gov rick perry businesswoman carly fiorina also jabbed trump bush though needs close floodgates hes dropped national polls trump risen new hampshire bush led trump even newcomer kasich seen surges cullen former new hampshire gop chairman said change tone tactics smart move bush one could help granite state think good politics jeb said fergus cullen former new hampshire republican party chairman theres percent republicans entertained donald trump theres percent party say wont vote circumstances arent jeb bushs people begin hes trying appeal percent adult room trying govern oconnell agreed pointed even new approach one thats uncomfortable bush necessary lot elections studious one would worked said trump flipped script']\n"
     ]
    }
   ],
   "source": [
    "print(x)"
   ]
  },
  {
   "cell_type": "code",
   "execution_count": 50,
   "id": "4135d510",
   "metadata": {},
   "outputs": [
    {
     "name": "stdout",
     "output_type": "stream",
     "text": [
      "['FAKE' 'FAKE' 'REAL' ... 'FAKE' 'REAL' 'REAL']\n"
     ]
    }
   ],
   "source": [
    "print(y)"
   ]
  },
  {
   "cell_type": "markdown",
   "id": "a2b52cc0",
   "metadata": {},
   "source": [
    "**Logistic Regression model**"
   ]
  },
  {
   "cell_type": "code",
   "execution_count": 51,
   "id": "174b0413",
   "metadata": {},
   "outputs": [],
   "source": [
    "#importing logistic regression function\n",
    "from sklearn.linear_model import LogisticRegression\n",
    "from sklearn.model_selection import train_test_split\n",
    "from sklearn.metrics import accuracy_score"
   ]
  },
  {
   "cell_type": "code",
   "execution_count": 52,
   "id": "e4ef2e7e",
   "metadata": {},
   "outputs": [],
   "source": [
    "#splitting into train and test data\n",
    "x_train, x_test, y_train, y_test = train_test_split(x, y, test_size=0.20, random_state=23)"
   ]
  },
  {
   "cell_type": "markdown",
   "id": "e9a2910a",
   "metadata": {},
   "source": [
    "**Text to Numerics**"
   ]
  },
  {
   "cell_type": "code",
   "execution_count": 53,
   "id": "594beb8d",
   "metadata": {},
   "outputs": [],
   "source": [
    "#TFIDF used to convert into numerics\n",
    "from sklearn.feature_extraction.text import TfidfVectorizer \n",
    "  \n",
    "vectorization = TfidfVectorizer() \n",
    "x_train = vectorization.fit_transform(x_train) \n",
    "x_test = vectorization.transform(x_test)"
   ]
  },
  {
   "cell_type": "markdown",
   "id": "b751c671",
   "metadata": {},
   "source": [
    "*converting the text into numerical form using TFIDF*"
   ]
  },
  {
   "cell_type": "code",
   "execution_count": 54,
   "id": "94bcd157",
   "metadata": {},
   "outputs": [
    {
     "name": "stdout",
     "output_type": "stream",
     "text": [
      "  (0, 46779)\t0.1765119970336506\n",
      "  (0, 10081)\t0.23793781423864435\n",
      "  (0, 23575)\t0.15854794447636172\n",
      "  (0, 65824)\t0.21443503540506417\n",
      "  (0, 65810)\t0.1477182745395601\n",
      "  (0, 66452)\t0.14910425436196884\n",
      "  (0, 24305)\t0.18735711365180693\n",
      "  (0, 71237)\t0.1287011231039346\n",
      "  (0, 72538)\t0.30810503260665983\n",
      "  (0, 50894)\t0.38972419788954665\n",
      "  (0, 70208)\t0.27947166651154326\n",
      "  (0, 1246)\t0.1536641198208433\n",
      "  (0, 15626)\t0.14259028721981087\n",
      "  (0, 73125)\t0.1725124766779204\n",
      "  (0, 6259)\t0.36034386831597126\n",
      "  (0, 37706)\t0.4657454865402276\n",
      "  (1, 70529)\t0.03023746246486645\n",
      "  (1, 20493)\t0.05572428646314519\n",
      "  (1, 33829)\t0.07436739772801348\n",
      "  (1, 43552)\t0.0222836638178696\n",
      "  (1, 61571)\t0.07647475299882103\n",
      "  (1, 51869)\t0.04435403435340545\n",
      "  (1, 729)\t0.03232277818236718\n",
      "  (1, 53401)\t0.03468674784590362\n",
      "  (1, 49974)\t0.02661649394592063\n",
      "  :\t:\n",
      "  (4835, 36533)\t0.012599367280301373\n",
      "  (4835, 48330)\t0.03917931614515292\n",
      "  (4835, 4051)\t0.026553923024109347\n",
      "  (4835, 67721)\t0.027769852760547248\n",
      "  (4835, 40838)\t0.01510614351294458\n",
      "  (4835, 11671)\t0.07780478189216417\n",
      "  (4835, 31940)\t0.057173437058663665\n",
      "  (4835, 43498)\t0.029461422934036696\n",
      "  (4835, 37678)\t0.015599565690439302\n",
      "  (4835, 2011)\t0.014500053988853638\n",
      "  (4835, 65427)\t0.24708653794655702\n",
      "  (4835, 65804)\t0.04043721757424917\n",
      "  (4835, 45961)\t0.05050342452483838\n",
      "  (4835, 41863)\t0.03150273514048061\n",
      "  (4835, 38841)\t0.029225200955331855\n",
      "  (4835, 29696)\t0.026935250092329884\n",
      "  (4835, 72987)\t0.029901488222042805\n",
      "  (4835, 40928)\t0.02442387625458964\n",
      "  (4835, 24134)\t0.015842886484422943\n",
      "  (4835, 72437)\t0.04073237941617382\n",
      "  (4835, 52119)\t0.01134711202937854\n",
      "  (4835, 65810)\t0.02543173506519264\n",
      "  (4835, 66452)\t0.012835175288387096\n",
      "  (4835, 71237)\t0.011078835288234595\n",
      "  (4835, 1246)\t0.026455394205563414\n"
     ]
    }
   ],
   "source": [
    "print(x_train)"
   ]
  },
  {
   "cell_type": "code",
   "execution_count": 55,
   "id": "9ca545ac",
   "metadata": {},
   "outputs": [
    {
     "name": "stdout",
     "output_type": "stream",
     "text": [
      "  (0, 73654)\t0.02334761601433896\n",
      "  (0, 73653)\t0.03293592750129156\n",
      "  (0, 73554)\t0.018268472122348566\n",
      "  (0, 73108)\t0.023747679261358182\n",
      "  (0, 72987)\t0.0218261599996926\n",
      "  (0, 72897)\t0.015970485922994597\n",
      "  (0, 72885)\t0.04620782209339435\n",
      "  (0, 72860)\t0.026811769399853254\n",
      "  (0, 72840)\t0.022696734666024825\n",
      "  (0, 72640)\t0.035668671294302234\n",
      "  (0, 72635)\t0.04654406268120755\n",
      "  (0, 72576)\t0.11748221875227681\n",
      "  (0, 72437)\t0.019821341861065368\n",
      "  (0, 72327)\t0.027821950437343937\n",
      "  (0, 72138)\t0.01658710860103119\n",
      "  (0, 72076)\t0.017357738008380082\n",
      "  (0, 71745)\t0.03635403302029171\n",
      "  (0, 71701)\t0.02073910123436421\n",
      "  (0, 71690)\t0.05123397419523284\n",
      "  (0, 71676)\t0.02205302310329769\n",
      "  (0, 71529)\t0.01428883888355719\n",
      "  (0, 71476)\t0.03999039986967222\n",
      "  (0, 71348)\t0.0334233842570145\n",
      "  (0, 71338)\t0.03784190474095903\n",
      "  (0, 71321)\t0.027744920906946607\n",
      "  :\t:\n",
      "  (1209, 13887)\t0.06261679273391828\n",
      "  (1209, 13514)\t0.07575585514833041\n",
      "  (1209, 13510)\t0.11346644321200482\n",
      "  (1209, 11718)\t0.08140723469666765\n",
      "  (1209, 11671)\t0.09169053820545464\n",
      "  (1209, 11603)\t0.061468473938492044\n",
      "  (1209, 10604)\t0.06074746290133641\n",
      "  (1209, 9553)\t0.058817323110162384\n",
      "  (1209, 9429)\t0.06153009396884334\n",
      "  (1209, 9324)\t0.09302572815217343\n",
      "  (1209, 8219)\t0.10542803337619885\n",
      "  (1209, 6047)\t0.10650149603896382\n",
      "  (1209, 5102)\t0.1367779846831759\n",
      "  (1209, 4769)\t0.057476481117589774\n",
      "  (1209, 4218)\t0.07938257156167666\n",
      "  (1209, 3905)\t0.05034915523323339\n",
      "  (1209, 3241)\t0.047699107921860606\n",
      "  (1209, 2792)\t0.03424993450125798\n",
      "  (1209, 2586)\t0.07012950147359157\n",
      "  (1209, 2057)\t0.0385030323141572\n",
      "  (1209, 1190)\t0.07622500739475173\n",
      "  (1209, 905)\t0.0723147968243061\n",
      "  (1209, 599)\t0.06783874072070945\n",
      "  (1209, 443)\t0.03449784958943128\n",
      "  (1209, 382)\t0.08123949221854262\n"
     ]
    }
   ],
   "source": [
    "print(x_test)"
   ]
  },
  {
   "cell_type": "code",
   "execution_count": 56,
   "id": "f63a9a8e",
   "metadata": {},
   "outputs": [],
   "source": [
    "reg=LogisticRegression()"
   ]
  },
  {
   "cell_type": "markdown",
   "id": "39acb08a",
   "metadata": {},
   "source": [
    "*Fitting Logistic Regression Model*"
   ]
  },
  {
   "cell_type": "code",
   "execution_count": 57,
   "id": "7734331c",
   "metadata": {},
   "outputs": [],
   "source": [
    "model1=reg.fit(x_train, y_train) "
   ]
  },
  {
   "cell_type": "code",
   "execution_count": 58,
   "id": "b6f84c85",
   "metadata": {},
   "outputs": [],
   "source": [
    "y_pred=model1.predict(x_test)"
   ]
  },
  {
   "cell_type": "code",
   "execution_count": 59,
   "id": "f374c4b3",
   "metadata": {},
   "outputs": [
    {
     "data": {
      "text/plain": [
       "array(['REAL', 'REAL', 'FAKE', ..., 'FAKE', 'REAL', 'FAKE'], dtype=object)"
      ]
     },
     "execution_count": 59,
     "metadata": {},
     "output_type": "execute_result"
    }
   ],
   "source": [
    "y_pred"
   ]
  },
  {
   "cell_type": "markdown",
   "id": "c5e450a1",
   "metadata": {},
   "source": [
    "**Acuracy of Logistic Regression**"
   ]
  },
  {
   "cell_type": "code",
   "execution_count": 60,
   "id": "7aa7a24c",
   "metadata": {},
   "outputs": [
    {
     "name": "stdout",
     "output_type": "stream",
     "text": [
      "Accuracy of Logistic Regression model: 0.9231404958677686\n"
     ]
    }
   ],
   "source": [
    "import sklearn.metrics\n",
    "accuracy1=sklearn.metrics.accuracy_score(y_test,y_pred)\n",
    "print(\"Accuracy of Logistic Regression model:\",accuracy1)"
   ]
  },
  {
   "cell_type": "markdown",
   "id": "a9b7a9bf",
   "metadata": {},
   "source": [
    "*The accuracy of logistic regression is 92%*"
   ]
  },
  {
   "cell_type": "code",
   "execution_count": 61,
   "id": "f17f5d50",
   "metadata": {},
   "outputs": [
    {
     "name": "stdout",
     "output_type": "stream",
     "text": [
      "Accuracy of trained data:\n",
      "0.9518196856906534\n",
      "Accuracy of test data:\n",
      "0.9231404958677686\n"
     ]
    }
   ],
   "source": [
    "print(\"Accuracy of trained data:\")\n",
    "print(accuracy_score(y_train, model1.predict(x_train))) \n",
    "print(\"Accuracy of test data:\")\n",
    "print(accuracy_score(y_test, model1.predict(x_test))) "
   ]
  },
  {
   "cell_type": "markdown",
   "id": "0a187984",
   "metadata": {},
   "source": [
    "*Accuracy of trained data and test data is 95% and 92%.*"
   ]
  },
  {
   "cell_type": "code",
   "execution_count": 62,
   "id": "29d7bbc9",
   "metadata": {},
   "outputs": [
    {
     "data": {
      "text/plain": [
       "array([[572,  35],\n",
       "       [ 58, 545]], dtype=int64)"
      ]
     },
     "execution_count": 62,
     "metadata": {},
     "output_type": "execute_result"
    }
   ],
   "source": [
    "from sklearn.metrics import confusion_matrix  \n",
    "cm= confusion_matrix(y_test,y_pred)  \n",
    "cm"
   ]
  },
  {
   "cell_type": "code",
   "execution_count": 63,
   "id": "a3ae0f37",
   "metadata": {},
   "outputs": [
    {
     "data": {
      "text/plain": [
       "<function matplotlib.pyplot.show(close=None, block=None)>"
      ]
     },
     "execution_count": 63,
     "metadata": {},
     "output_type": "execute_result"
    },
    {
     "data": {
      "image/png": "[encoded data removed]",
      "text/plain": [
       "<Figure size 640x480 with 2 Axes>"
      ]
     },
     "metadata": {},
     "output_type": "display_data"
    }
   ],
   "source": [
    "sns.heatmap(cm, \n",
    "            annot=True,\n",
    "            fmt='g', \n",
    "            xticklabels=['REAL','FAKE'],\n",
    "            yticklabels=['REAL','FAKE'])\n",
    "plt.ylabel('Prediction',fontsize=13)\n",
    "plt.xlabel('Actual',fontsize=13)\n",
    "plt.title('Confusion Matrix',fontsize=17)\n",
    "plt.show"
   ]
  },
  {
   "cell_type": "markdown",
   "id": "f7dd0454",
   "metadata": {},
   "source": [
    "*This is the confusion matrix for Logistic regression model.*"
   ]
  },
  {
   "cell_type": "markdown",
   "id": "3e1d43db",
   "metadata": {},
   "source": [
    "**DECISION TREE MODEL**"
   ]
  },
  {
   "cell_type": "code",
   "execution_count": 64,
   "id": "d79799c4",
   "metadata": {},
   "outputs": [],
   "source": [
    "#importing decision tree function\n",
    "from sklearn.tree import DecisionTreeClassifier  \n",
    "dt = DecisionTreeClassifier(random_state=0) \n",
    "model2=dt.fit(x_train, y_train) \n",
    "y_pred=model2.predict(x_test)"
   ]
  },
  {
   "cell_type": "markdown",
   "id": "c26de871",
   "metadata": {},
   "source": [
    "*Build decision tree model*"
   ]
  },
  {
   "cell_type": "code",
   "execution_count": 65,
   "id": "b765c7ed",
   "metadata": {},
   "outputs": [
    {
     "name": "stdout",
     "output_type": "stream",
     "text": [
      "Accuracy of Decision tree model: 0.7933884297520661\n"
     ]
    }
   ],
   "source": [
    "#accuracy of decision tree model\n",
    "import sklearn.metrics\n",
    "accuracy2=sklearn.metrics.accuracy_score(y_test,y_pred)\n",
    "print(\"Accuracy of Decision tree model:\",accuracy2)"
   ]
  },
  {
   "cell_type": "code",
   "execution_count": 66,
   "id": "8ac56ac0",
   "metadata": {},
   "outputs": [
    {
     "name": "stdout",
     "output_type": "stream",
     "text": [
      "Accuracy of trained data:\n",
      "1.0\n",
      "Accuracy of test data:\n",
      "0.7933884297520661\n"
     ]
    }
   ],
   "source": [
    "print(\"Accuracy of trained data:\")\n",
    "print(accuracy_score(y_train, model2.predict(x_train))) \n",
    "print(\"Accuracy of test data:\")\n",
    "print(accuracy_score(y_test, model2.predict(x_test))) "
   ]
  },
  {
   "cell_type": "code",
   "execution_count": 67,
   "id": "9be64b60",
   "metadata": {},
   "outputs": [
    {
     "data": {
      "text/plain": [
       "array([[479, 128],\n",
       "       [122, 481]], dtype=int64)"
      ]
     },
     "execution_count": 67,
     "metadata": {},
     "output_type": "execute_result"
    }
   ],
   "source": [
    "#confusion matrix for decision tree model\n",
    "from sklearn.metrics import confusion_matrix  \n",
    "cm= confusion_matrix(y_test,y_pred)  \n",
    "cm"
   ]
  },
  {
   "cell_type": "code",
   "execution_count": 68,
   "id": "8d870f34",
   "metadata": {},
   "outputs": [
    {
     "data": {
      "text/plain": [
       "<function matplotlib.pyplot.show(close=None, block=None)>"
      ]
     },
     "execution_count": 68,
     "metadata": {},
     "output_type": "execute_result"
    },
    {
     "data": {
      "image/png": "[encoded data removed]",
      "text/plain": [
       "<Figure size 640x480 with 2 Axes>"
      ]
     },
     "metadata": {},
     "output_type": "display_data"
    }
   ],
   "source": [
    "sns.heatmap(cm, \n",
    "            annot=True,\n",
    "            fmt='g', \n",
    "            xticklabels=['REAL','FAKE'],\n",
    "            yticklabels=['REAL','FAKE'])\n",
    "plt.ylabel('Prediction',fontsize=13)\n",
    "plt.xlabel('Actual',fontsize=13)\n",
    "plt.title('Confusion Matrix',fontsize=17)\n",
    "plt.show"
   ]
  },
  {
   "cell_type": "markdown",
   "id": "df5b23df",
   "metadata": {},
   "source": [
    "**RANDOM FOREST MODEL**"
   ]
  },
  {
   "cell_type": "code",
   "execution_count": 69,
   "id": "4983f9ff",
   "metadata": {},
   "outputs": [],
   "source": [
    "#importing random forest classifier\n",
    "from sklearn.ensemble import RandomForestClassifier\n",
    "rf=RandomForestClassifier(n_estimators=50, random_state=42)\n",
    "model3=rf.fit(x_train,y_train)\n",
    "y_pred=model3.predict(x_test)"
   ]
  },
  {
   "cell_type": "code",
   "execution_count": 70,
   "id": "4e68bc78",
   "metadata": {},
   "outputs": [
    {
     "name": "stdout",
     "output_type": "stream",
     "text": [
      "Accuracy of Random Forest Classifier is: 0.8917355371900827\n"
     ]
    }
   ],
   "source": [
    "#accuracy of random forest classifier\n",
    "accuracy3=sklearn.metrics.accuracy_score(y_test,y_pred)\n",
    "print(\"Accuracy of Random Forest Classifier is:\",accuracy3)"
   ]
  },
  {
   "cell_type": "code",
   "execution_count": 71,
   "id": "c4d5d6b0",
   "metadata": {},
   "outputs": [
    {
     "name": "stdout",
     "output_type": "stream",
     "text": [
      "Accuracy of trained data:\n",
      "1.0\n",
      "Accuracy of test data:\n",
      "0.8917355371900827\n"
     ]
    }
   ],
   "source": [
    "print(\"Accuracy of trained data:\")\n",
    "print(accuracy_score(y_train, model3.predict(x_train))) \n",
    "print(\"Accuracy of test data:\")\n",
    "print(accuracy_score(y_test, model3.predict(x_test))) "
   ]
  },
  {
   "cell_type": "code",
   "execution_count": 72,
   "id": "905befbf",
   "metadata": {},
   "outputs": [],
   "source": [
    "#classification report \n",
    "from sklearn.metrics import accuracy_score, classification_report\n",
    "classification_rep = classification_report(y_test, y_pred)"
   ]
  },
  {
   "cell_type": "code",
   "execution_count": 73,
   "id": "219beccf",
   "metadata": {},
   "outputs": [
    {
     "name": "stdout",
     "output_type": "stream",
     "text": [
      "Classification Report: \n",
      "              precision    recall  f1-score   support\n",
      "\n",
      "        FAKE       0.89      0.89      0.89       607\n",
      "        REAL       0.89      0.89      0.89       603\n",
      "\n",
      "    accuracy                           0.89      1210\n",
      "   macro avg       0.89      0.89      0.89      1210\n",
      "weighted avg       0.89      0.89      0.89      1210\n",
      "\n"
     ]
    }
   ],
   "source": [
    "print(\"Classification Report: \",)\n",
    "print(classification_rep)"
   ]
  },
  {
   "cell_type": "code",
   "execution_count": 74,
   "id": "0133ca37",
   "metadata": {},
   "outputs": [
    {
     "data": {
      "text/plain": [
       "array([[540,  67],\n",
       "       [ 64, 539]], dtype=int64)"
      ]
     },
     "execution_count": 74,
     "metadata": {},
     "output_type": "execute_result"
    }
   ],
   "source": [
    "#confusion matrix for random forest model\n",
    "from sklearn.metrics import confusion_matrix  \n",
    "cm= confusion_matrix(y_test,y_pred)  \n",
    "cm"
   ]
  },
  {
   "cell_type": "code",
   "execution_count": 75,
   "id": "051b0fb5",
   "metadata": {},
   "outputs": [
    {
     "data": {
      "text/plain": [
       "<function matplotlib.pyplot.show(close=None, block=None)>"
      ]
     },
     "execution_count": 75,
     "metadata": {},
     "output_type": "execute_result"
    },
    {
     "data": {
      "image/png": "[encoded data removed]",
      "text/plain": [
       "<Figure size 640x480 with 2 Axes>"
      ]
     },
     "metadata": {},
     "output_type": "display_data"
    }
   ],
   "source": [
    "sns.heatmap(cm, \n",
    "            annot=True,\n",
    "            fmt='g', \n",
    "            xticklabels=['REAL','FAKE'],\n",
    "            yticklabels=['REAL','FAKE'])\n",
    "plt.ylabel('Prediction',fontsize=13)\n",
    "plt.xlabel('Actual',fontsize=13)\n",
    "plt.title('Confusion Matrix',fontsize=17)\n",
    "plt.show"
   ]
  },
  {
   "cell_type": "markdown",
   "id": "32e34bcf",
   "metadata": {},
   "source": [
    "*Confusion matrix for Random Forest*"
   ]
  },
  {
   "cell_type": "markdown",
   "id": "4c93214a",
   "metadata": {},
   "source": [
    "**PassiveAggressiveClassifier**"
   ]
  },
  {
   "cell_type": "code",
   "execution_count": 76,
   "id": "18af589a",
   "metadata": {},
   "outputs": [],
   "source": [
    "#importing packages\n",
    "from sklearn.linear_model import PassiveAggressiveClassifier"
   ]
  },
  {
   "cell_type": "markdown",
   "id": "66d6b608",
   "metadata": {},
   "source": [
    "*Build a PassiveAggressiveClassifier model*"
   ]
  },
  {
   "cell_type": "code",
   "execution_count": 77,
   "id": "bcbf34e7",
   "metadata": {},
   "outputs": [],
   "source": [
    "#fitting the model\n",
    "pac=PassiveAggressiveClassifier(max_iter=40,random_state=0)\n",
    "model4=pac.fit(x_train,y_train)\n",
    "y_pred=model4.predict(x_test)"
   ]
  },
  {
   "cell_type": "code",
   "execution_count": 78,
   "id": "fb71306a",
   "metadata": {},
   "outputs": [
    {
     "name": "stdout",
     "output_type": "stream",
     "text": [
      "Accuracy of PassiveAggressiveClassifier model: 0.9380165289256198\n"
     ]
    }
   ],
   "source": [
    "#caluculating accuracy\n",
    "accuracy4=accuracy_score(y_test,y_pred)\n",
    "print(\"Accuracy of PassiveAggressiveClassifier model:\",accuracy4)"
   ]
  },
  {
   "cell_type": "markdown",
   "id": "1172e3e1",
   "metadata": {},
   "source": [
    "*Accuracy of PassiveAggressiveClassifier model si 94%*"
   ]
  },
  {
   "cell_type": "code",
   "execution_count": 79,
   "id": "ba0698e0",
   "metadata": {},
   "outputs": [
    {
     "name": "stdout",
     "output_type": "stream",
     "text": [
      "[[568  39]\n",
      " [ 36 567]]\n"
     ]
    }
   ],
   "source": [
    "#confusion matrix \n",
    "cm=confusion_matrix(y_test,y_pred)\n",
    "print(cm)"
   ]
  },
  {
   "cell_type": "code",
   "execution_count": 80,
   "id": "424df260",
   "metadata": {},
   "outputs": [
    {
     "data": {
      "text/plain": [
       "<function matplotlib.pyplot.show(close=None, block=None)>"
      ]
     },
     "execution_count": 80,
     "metadata": {},
     "output_type": "execute_result"
    },
    {
     "data": {
      "image/png": "[encoded data removed]",
      "text/plain": [
       "<Figure size 640x480 with 2 Axes>"
      ]
     },
     "metadata": {},
     "output_type": "display_data"
    }
   ],
   "source": [
    "sns.heatmap(cm, \n",
    "            annot=True,\n",
    "            fmt='g', \n",
    "            xticklabels=['REAL','FAKE'],\n",
    "            yticklabels=['REAL','FAKE'])\n",
    "plt.ylabel('Prediction',fontsize=13)\n",
    "plt.xlabel('Actual',fontsize=13)\n",
    "plt.title('Confusion Matrix',fontsize=17)\n",
    "plt.show"
   ]
  },
  {
   "cell_type": "markdown",
   "id": "1032ea49",
   "metadata": {},
   "source": [
    "*confusion matrix for PassiveAggressiveClassifier model*"
   ]
  },
  {
   "cell_type": "markdown",
   "id": "e6b747c2",
   "metadata": {},
   "source": [
    "**NAIVE BAYES MODEL**"
   ]
  },
  {
   "cell_type": "code",
   "execution_count": 81,
   "id": "b256e5e7",
   "metadata": {},
   "outputs": [],
   "source": [
    "#importing packages and fitting model\n",
    "from sklearn.naive_bayes import MultinomialNB\n",
    "nv= MultinomialNB()\n",
    "model5=nv.fit(x_train,y_train)\n",
    "y_pred=model5.predict(x_test)"
   ]
  },
  {
   "cell_type": "markdown",
   "id": "ed6222a5",
   "metadata": {},
   "source": [
    "*Build navies bayes model*"
   ]
  },
  {
   "cell_type": "code",
   "execution_count": 82,
   "id": "21c3ce80",
   "metadata": {},
   "outputs": [
    {
     "name": "stdout",
     "output_type": "stream",
     "text": [
      "Accuracy of Naive Bayes model: 0.8272727272727273\n"
     ]
    }
   ],
   "source": [
    "#caluculating accuracy\n",
    "accuracy5=accuracy_score(y_test,y_pred)\n",
    "print(\"Accuracy of Naive Bayes model:\",accuracy5)"
   ]
  },
  {
   "cell_type": "markdown",
   "id": "91166030",
   "metadata": {},
   "source": [
    "*Accuracy of Navie Bayes Model is 82%*"
   ]
  },
  {
   "cell_type": "code",
   "execution_count": 83,
   "id": "5ea5d92a",
   "metadata": {},
   "outputs": [
    {
     "name": "stdout",
     "output_type": "stream",
     "text": [
      "[[404 203]\n",
      " [  6 597]]\n"
     ]
    }
   ],
   "source": [
    "#confusion matrix\n",
    "cm=confusion_matrix(y_test,y_pred)\n",
    "print(cm)\n"
   ]
  },
  {
   "cell_type": "code",
   "execution_count": 84,
   "id": "a32396d0",
   "metadata": {},
   "outputs": [
    {
     "data": {
      "text/plain": [
       "<function matplotlib.pyplot.show(close=None, block=None)>"
      ]
     },
     "execution_count": 84,
     "metadata": {},
     "output_type": "execute_result"
    },
    {
     "data": {
      "image/png": "[encoded data removed]",
      "text/plain": [
       "<Figure size 640x480 with 2 Axes>"
      ]
     },
     "metadata": {},
     "output_type": "display_data"
    }
   ],
   "source": [
    "sns.heatmap(cm, \n",
    "            annot=True,\n",
    "            fmt='g', \n",
    "            xticklabels=['REAL','FAKE'],\n",
    "            yticklabels=['REAL','FAKE'])\n",
    "plt.ylabel('Prediction',fontsize=13)\n",
    "plt.xlabel('Actual',fontsize=13)\n",
    "plt.title('Confusion Matrix',fontsize=17)\n",
    "plt.show"
   ]
  },
  {
   "cell_type": "markdown",
   "id": "52dd2080",
   "metadata": {},
   "source": [
    "*confusion matrix for Navie bayes model*"
   ]
  },
  {
   "cell_type": "markdown",
   "id": "521b625f",
   "metadata": {},
   "source": [
    "**SVM MODEL**"
   ]
  },
  {
   "cell_type": "code",
   "execution_count": 85,
   "id": "457d916f",
   "metadata": {},
   "outputs": [],
   "source": [
    "#importing functions\n",
    "from sklearn import model_selection,svm"
   ]
  },
  {
   "cell_type": "code",
   "execution_count": 86,
   "id": "cd795bca",
   "metadata": {},
   "outputs": [],
   "source": [
    "#fitting SVM Model\n",
    "svm=svm.SVC(C=1.9,kernel=\"linear\")\n",
    "model6=svm.fit(x_train,y_train)\n",
    "y_pred=model6.predict(x_test)"
   ]
  },
  {
   "cell_type": "code",
   "execution_count": 87,
   "id": "a60ab968",
   "metadata": {},
   "outputs": [
    {
     "name": "stdout",
     "output_type": "stream",
     "text": [
      "Accuracy of SVM Model: 0.9396694214876034\n"
     ]
    }
   ],
   "source": [
    "#calculating accuracy\n",
    "accuracy6=accuracy_score(y_test,y_pred)\n",
    "print(\"Accuracy of SVM Model:\",accuracy6)"
   ]
  },
  {
   "cell_type": "markdown",
   "id": "227c12b6",
   "metadata": {},
   "source": [
    "**COMPARING ACCURACY**"
   ]
  },
  {
   "cell_type": "code",
   "execution_count": 88,
   "id": "406cff00",
   "metadata": {},
   "outputs": [],
   "source": [
    "#creating accuracy dataframe\n",
    "accuarcy_list=pd.DataFrame({'Models':['Logistic Regression','Decision Tree','Random Forest',\n",
    "                                    'PassiveAggressiveClassifier','Naive Bayes','SVM'],\n",
    "                            'Accuracy':[accuracy1*100,accuracy2*100,\n",
    "                                        accuracy3*100,accuracy4*100,\n",
    "                                        accuracy5*100,accuracy6*100]})"
   ]
  },
  {
   "cell_type": "code",
   "execution_count": 89,
   "id": "22ff7f6b",
   "metadata": {},
   "outputs": [
    {
     "name": "stdout",
     "output_type": "stream",
     "text": [
      "                        Models   Accuracy\n",
      "0          Logistic Regression  92.314050\n",
      "1                Decision Tree  79.338843\n",
      "2                Random Forest  89.173554\n",
      "3  PassiveAggressiveClassifier  93.801653\n",
      "4                  Naive Bayes  82.727273\n",
      "5                          SVM  93.966942\n"
     ]
    }
   ],
   "source": [
    "print(accuarcy_list)"
   ]
  },
  {
   "cell_type": "code",
   "execution_count": 90,
   "id": "e6bd7d83",
   "metadata": {},
   "outputs": [
    {
     "data": {
      "text/plain": [
       "<BarContainer object of 6 artists>"
      ]
     },
     "execution_count": 90,
     "metadata": {},
     "output_type": "execute_result"
    },
    {
     "data": {
      "image/png": "[encoded data removed]",
      "text/plain": [
       "<Figure size 640x480 with 1 Axes>"
      ]
     },
     "metadata": {},
     "output_type": "display_data"
    }
   ],
   "source": [
    "#visualizing accuracy graph\n",
    "plt.barh(accuarcy_list['Models'],accuarcy_list['Accuracy'])"
   ]
  },
  {
   "cell_type": "code",
   "execution_count": null,
   "id": "97e71be2",
   "metadata": {},
   "outputs": [],
   "source": []
  }
 ],
 "metadata": {
  "kernelspec": {
   "display_name": "Python 3 (ipykernel)",
   "language": "python",
   "name": "python3"
  },
  "language_info": {
   "codemirror_mode": {
    "name": "ipython",
    "version": 3
   },
   "file_extension": ".py",
   "mimetype": "text/x-python",
   "name": "python",
   "nbconvert_exporter": "python",
   "pygments_lexer": "ipython3",
   "version": "3.11.4"
  }
 },
 "nbformat": 4,
 "nbformat_minor": 5
}
